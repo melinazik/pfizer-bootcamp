{
  "cells": [
    {
      "cell_type": "markdown",
      "metadata": {
        "id": "Tw_B27WKS_Or"
      },
      "source": [
        "\n",
        "Team 4 / Modelling / D03"
      ]
    },
    {
      "cell_type": "code",
      "execution_count": 1,
      "metadata": {
        "id": "OrAcqb3fXBTO"
      },
      "outputs": [],
      "source": [
        "import pandas as pd\n",
        "import numpy as np\n",
        "import collections\n",
        "import matplotlib.pyplot as plt\n",
        "import seaborn as sns\n",
        "import numpy as np\n",
        "import joblib\n",
        "\n",
        "from scipy import stats\n",
        "from sklearn.model_selection import train_test_split\n",
        "from sklearn.dummy import DummyRegressor\n",
        "from sklearn.linear_model import LinearRegression\n",
        "from sklearn.neighbors import KNeighborsRegressor\n",
        "from sklearn.svm import SVR\n",
        "from sklearn.tree import DecisionTreeRegressor\n",
        "from sklearn.ensemble import RandomForestRegressor\n",
        "from sklearn.ensemble import GradientBoostingRegressor\n",
        "from sklearn.ensemble import AdaBoostRegressor\n",
        "from sklearn.metrics import mean_absolute_error, mean_absolute_percentage_error, r2_score\n",
        "from sklearn.model_selection import cross_val_score\n",
        "from sklearn.preprocessing import StandardScaler\n",
        "from sklearn.model_selection import GridSearchCV"
      ]
    },
    {
      "cell_type": "markdown",
      "metadata": {
        "id": "qua7PfBAdkvD"
      },
      "source": [
        "Modelling"
      ]
    },
    {
      "cell_type": "code",
      "execution_count": 2,
      "metadata": {
        "colab": {
          "base_uri": "https://localhost:8080/",
          "height": 328
        },
        "id": "bhf4UadqQOC0",
        "outputId": "db0f8035-2161-4f61-d6dc-59372726f967"
      },
      "outputs": [],
      "source": [
        "df = pd.read_csv ('data/preprocessed_data.csv')"
      ]
    },
    {
      "cell_type": "code",
      "execution_count": 3,
      "metadata": {
        "id": "i4vyu-oddWZU"
      },
      "outputs": [
        {
          "data": {
            "text/plain": [
              "((9501, 17), (9501,))"
            ]
          },
          "execution_count": 3,
          "metadata": {},
          "output_type": "execute_result"
        }
      ],
      "source": [
        "X = df.drop(columns='price')\n",
        "y = df.price\n",
        "X.shape, y.shape"
      ]
    },
    {
      "cell_type": "code",
      "execution_count": 4,
      "metadata": {
        "id": "FLK4qDy6dWpI"
      },
      "outputs": [],
      "source": [
        "X_train, X_test, y_train, y_test = train_test_split(X, y, test_size=0.3)"
      ]
    },
    {
      "cell_type": "code",
      "execution_count": 5,
      "metadata": {
        "id": "KksvbFExdW0T"
      },
      "outputs": [
        {
          "data": {
            "text/plain": [
              "((6650, 17), (2851, 17), (6650,), (2851,))"
            ]
          },
          "execution_count": 5,
          "metadata": {},
          "output_type": "execute_result"
        }
      ],
      "source": [
        "X_train.shape, X_test.shape, y_train.shape, y_test.shape"
      ]
    },
    {
      "cell_type": "code",
      "execution_count": 6,
      "metadata": {
        "id": "IPJdo7kod5KB"
      },
      "outputs": [
        {
          "name": "stdout",
          "output_type": "stream",
          "text": [
            "Dummy results: 55.28437841358923 and 0.9643676635504734\n"
          ]
        }
      ],
      "source": [
        "# Dummy Model to use as a baseline\n",
        "\n",
        "dummy = DummyRegressor()\n",
        "\n",
        "dummy.fit(X_train,y_train)\n",
        "\n",
        "preds = dummy.predict(X_test)\n",
        "\n",
        "mae = mean_absolute_error(y_test, preds)\n",
        "mape = mean_absolute_percentage_error(y_test, preds)\n",
        "\n",
        "print(f'Dummy results: {mae} and {mape}')"
      ]
    },
    {
      "cell_type": "code",
      "execution_count": 7,
      "metadata": {
        "id": "Mken6hPHhsNA"
      },
      "outputs": [
        {
          "name": "stdout",
          "output_type": "stream",
          "text": [
            "Linear Regression results: 48.23650953531794 and 0.7778661990180143\n"
          ]
        }
      ],
      "source": [
        "#Linear Regression\n",
        "\n",
        "lr = LinearRegression()\n",
        "\n",
        "lr.fit(X_train,y_train)\n",
        "\n",
        "preds = lr.predict(X_test)\n",
        "\n",
        "mae = mean_absolute_error(y_test, preds)\n",
        "mape = mean_absolute_percentage_error(y_test, preds)\n",
        "\n",
        "print(f'Linear Regression results: {mae} and {mape}')"
      ]
    },
    {
      "cell_type": "code",
      "execution_count": 8,
      "metadata": {
        "id": "A3VJeNpYh-N7"
      },
      "outputs": [
        {
          "name": "stdout",
          "output_type": "stream",
          "text": [
            "KNN Regression results: 53.98751315327956 and 0.7891653974951648\n"
          ]
        }
      ],
      "source": [
        "# KNN Regression\n",
        "\n",
        "knn = KNeighborsRegressor()\n",
        "\n",
        "knn.fit(X_train,y_train)\n",
        "\n",
        "preds = knn.predict(X_test)\n",
        "\n",
        "mae = mean_absolute_error(y_test, preds)\n",
        "mape = mean_absolute_percentage_error(y_test, preds)\n",
        "\n",
        "print(f'KNN Regression results: {mae} and {mape}')\n"
      ]
    },
    {
      "cell_type": "code",
      "execution_count": 9,
      "metadata": {
        "id": "sHPCq1DKieJA"
      },
      "outputs": [
        {
          "name": "stdout",
          "output_type": "stream",
          "text": [
            "SVM Regression results: 43.064306120373885 and 0.4538081330422991\n"
          ]
        }
      ],
      "source": [
        "# SVM \n",
        "\n",
        "svm = SVR()\n",
        "\n",
        "svm.fit(X_train,y_train)\n",
        "\n",
        "preds = svm.predict(X_test)\n",
        "\n",
        "mae = mean_absolute_error(y_test, preds)\n",
        "mape = mean_absolute_percentage_error(y_test, preds)\n",
        "\n",
        "print(f'SVM Regression results: {mae} and {mape}')"
      ]
    },
    {
      "cell_type": "code",
      "execution_count": 10,
      "metadata": {
        "id": "1N3BNhK6k-0t"
      },
      "outputs": [
        {
          "name": "stdout",
          "output_type": "stream",
          "text": [
            "Random Forest results: 44.13826376709926 and 0.6248254995905056\n"
          ]
        }
      ],
      "source": [
        "#Random Forest\n",
        "\n",
        "rf = RandomForestRegressor()\n",
        "\n",
        "rf.fit(X_train,y_train)\n",
        "\n",
        "preds = rf.predict(X_test)\n",
        "\n",
        "mae = mean_absolute_error(y_test, preds)\n",
        "mape = mean_absolute_percentage_error(y_test, preds)\n",
        "\n",
        "print(f'Random Forest results: {mae} and {mape}')\n"
      ]
    },
    {
      "cell_type": "code",
      "execution_count": 11,
      "metadata": {
        "id": "MnsZl_aReLja"
      },
      "outputs": [
        {
          "name": "stdout",
          "output_type": "stream",
          "text": [
            "Gradient Boosting results: 48.356448381168825 and 0.7314689310014085\n"
          ]
        }
      ],
      "source": [
        "#Gradient Boosting\n",
        "\n",
        "gb = GradientBoostingRegressor()\n",
        "\n",
        "gb.fit(X_train,y_train)\n",
        "\n",
        "preds = gb.predict(X_test)\n",
        "\n",
        "mae = mean_absolute_error(y_test, preds)\n",
        "mape = mean_absolute_percentage_error(y_test, preds)\n",
        "\n",
        "print(f'Gradient Boosting results: {mae} and {mape}')\n"
      ]
    },
    {
      "cell_type": "code",
      "execution_count": 12,
      "metadata": {
        "id": "v6jCmfYhfJRl"
      },
      "outputs": [
        {
          "name": "stdout",
          "output_type": "stream",
          "text": [
            "ADA results: 48.069459256785976 and 0.7259075244248003\n"
          ]
        }
      ],
      "source": [
        "#Ada Boosting\n",
        "\n",
        "ada = GradientBoostingRegressor()\n",
        "\n",
        "ada.fit(X_train,y_train)\n",
        "\n",
        "preds = ada.predict(X_test)\n",
        "\n",
        "mae = mean_absolute_error(y_test, preds)\n",
        "mape = mean_absolute_percentage_error(y_test, preds)\n",
        "\n",
        "print(f'ADA results: {mae} and {mape}')"
      ]
    },
    {
      "cell_type": "markdown",
      "metadata": {
        "id": "ih5DfNUKMh6k"
      },
      "source": [
        "Standarization to improve the models"
      ]
    },
    {
      "cell_type": "code",
      "execution_count": 13,
      "metadata": {
        "id": "2nVnMVSrmBV5"
      },
      "outputs": [],
      "source": [
        "sc = StandardScaler()\n",
        "\n",
        "X_train_sc = sc.fit_transform(X_train)\n",
        "X_test_sc = sc.transform(X_test)"
      ]
    },
    {
      "cell_type": "code",
      "execution_count": 14,
      "metadata": {
        "id": "nFlEb13ZmEfZ"
      },
      "outputs": [
        {
          "name": "stdout",
          "output_type": "stream",
          "text": [
            "SVM Regression scaled results: 38.446252492612075 and 0.3931985197105078\n"
          ]
        }
      ],
      "source": [
        "# SVM in scaled data\n",
        "\n",
        "svm2 = SVR(kernel='linear' )\n",
        "\n",
        "svm2.fit(X_train_sc,y_train)\n",
        "\n",
        "preds = svm2.predict(X_test_sc)\n",
        "\n",
        "mae = mean_absolute_error(y_test, preds)\n",
        "mape = mean_absolute_percentage_error(y_test, preds)\n",
        "\n",
        "print(f'SVM Regression scaled results: {mae} and {mape}')"
      ]
    },
    {
      "cell_type": "code",
      "execution_count": 15,
      "metadata": {
        "id": "XYQZwQ20mJlo"
      },
      "outputs": [
        {
          "name": "stdout",
          "output_type": "stream",
          "text": [
            "Random Forest scaled results: 45.538095405121005 and 0.6577979519940482\n"
          ]
        }
      ],
      "source": [
        "#Random Forest in scaled data\n",
        "\n",
        "rf2 = RandomForestRegressor()\n",
        "\n",
        "rf2.fit(X_train_sc,y_train)\n",
        "\n",
        "preds = rf2.predict(X_test_sc)\n",
        "\n",
        "mae = mean_absolute_error(y_test, preds)\n",
        "mape = mean_absolute_percentage_error(y_test, preds)\n",
        "\n",
        "print(f'Random Forest scaled results: {mae} and {mape}')\n"
      ]
    },
    {
      "cell_type": "code",
      "execution_count": 16,
      "metadata": {
        "id": "utiO4T5KmOyV"
      },
      "outputs": [
        {
          "name": "stdout",
          "output_type": "stream",
          "text": [
            "Linear Regression scaled results: 48.20865116784456 and 0.7768305426341179\n"
          ]
        }
      ],
      "source": [
        "#Linear Regression in scaled data\n",
        "\n",
        "lr2 = LinearRegression()\n",
        "\n",
        "lr2.fit(X_train_sc,y_train)\n",
        "\n",
        "preds = lr2.predict(X_test_sc)\n",
        "\n",
        "mae = mean_absolute_error(y_test, preds)\n",
        "mape = mean_absolute_percentage_error(y_test, preds)\n",
        "\n",
        "print(f'Linear Regression scaled results: {mae} and {mape}')"
      ]
    },
    {
      "cell_type": "code",
      "execution_count": 17,
      "metadata": {
        "id": "VyfvY9IaedsH"
      },
      "outputs": [
        {
          "name": "stdout",
          "output_type": "stream",
          "text": [
            "Gradient Boosting scaled results: 48.60583664987096 and 0.7316694610499395\n"
          ]
        }
      ],
      "source": [
        "#Gradient Boosting in scaled data\n",
        "\n",
        "gb2 = GradientBoostingRegressor()\n",
        "\n",
        "gb2.fit(X_train_sc,y_train)\n",
        "\n",
        "preds = gb2.predict(X_test_sc)\n",
        "\n",
        "mae = mean_absolute_error(y_test, preds)\n",
        "mape = mean_absolute_percentage_error(y_test, preds)\n",
        "\n",
        "print(f'Gradient Boosting scaled results: {mae} and {mape}')"
      ]
    },
    {
      "cell_type": "markdown",
      "metadata": {
        "id": "Ow9-JcKoeMaI"
      },
      "source": [
        "Handling outliers to improve the models"
      ]
    },
    {
      "cell_type": "code",
      "execution_count": 18,
      "metadata": {
        "id": "w7yN3gSdfQL7"
      },
      "outputs": [
        {
          "data": {
            "text/html": [
              "<div>\n",
              "<style scoped>\n",
              "    .dataframe tbody tr th:only-of-type {\n",
              "        vertical-align: middle;\n",
              "    }\n",
              "\n",
              "    .dataframe tbody tr th {\n",
              "        vertical-align: top;\n",
              "    }\n",
              "\n",
              "    .dataframe thead th {\n",
              "        text-align: right;\n",
              "    }\n",
              "</style>\n",
              "<table border=\"1\" class=\"dataframe\">\n",
              "  <thead>\n",
              "    <tr style=\"text-align: right;\">\n",
              "      <th></th>\n",
              "      <th>Unnamed: 0</th>\n",
              "      <th>neighbourhood_cleansed</th>\n",
              "      <th>accommodates</th>\n",
              "      <th>bedrooms</th>\n",
              "      <th>beds</th>\n",
              "      <th>price</th>\n",
              "      <th>minimum_nights</th>\n",
              "      <th>number_of_reviews</th>\n",
              "      <th>Home or apt</th>\n",
              "      <th>Hotel room</th>\n",
              "      <th>Private room</th>\n",
              "      <th>Shared room</th>\n",
              "      <th>Private Bath</th>\n",
              "      <th>Shared Bath</th>\n",
              "      <th>bathrooms_number</th>\n",
              "      <th>amenities</th>\n",
              "      <th>not_a_superhost</th>\n",
              "      <th>superhost</th>\n",
              "    </tr>\n",
              "  </thead>\n",
              "  <tbody>\n",
              "    <tr>\n",
              "      <th>count</th>\n",
              "      <td>9501.000000</td>\n",
              "      <td>9501.000000</td>\n",
              "      <td>9501.000000</td>\n",
              "      <td>9501.000000</td>\n",
              "      <td>9501.000000</td>\n",
              "      <td>9501.000000</td>\n",
              "      <td>9501.000000</td>\n",
              "      <td>9501.000000</td>\n",
              "      <td>9501.000000</td>\n",
              "      <td>9501.000000</td>\n",
              "      <td>9501.000000</td>\n",
              "      <td>9501.000000</td>\n",
              "      <td>9501.000000</td>\n",
              "      <td>9501.000000</td>\n",
              "      <td>9501.000000</td>\n",
              "      <td>9501.000000</td>\n",
              "      <td>9501.000000</td>\n",
              "      <td>9501.000000</td>\n",
              "    </tr>\n",
              "    <tr>\n",
              "      <th>mean</th>\n",
              "      <td>4765.645300</td>\n",
              "      <td>58909.771919</td>\n",
              "      <td>3.842227</td>\n",
              "      <td>1.455005</td>\n",
              "      <td>2.103358</td>\n",
              "      <td>82.759815</td>\n",
              "      <td>3.228502</td>\n",
              "      <td>42.717609</td>\n",
              "      <td>0.887170</td>\n",
              "      <td>0.013788</td>\n",
              "      <td>0.091043</td>\n",
              "      <td>0.007999</td>\n",
              "      <td>0.950532</td>\n",
              "      <td>0.049468</td>\n",
              "      <td>1.206978</td>\n",
              "      <td>15.709925</td>\n",
              "      <td>0.600463</td>\n",
              "      <td>0.399537</td>\n",
              "    </tr>\n",
              "    <tr>\n",
              "      <th>std</th>\n",
              "      <td>2758.526004</td>\n",
              "      <td>56496.229000</td>\n",
              "      <td>1.958101</td>\n",
              "      <td>0.775141</td>\n",
              "      <td>1.553350</td>\n",
              "      <td>289.474447</td>\n",
              "      <td>19.657534</td>\n",
              "      <td>70.161898</td>\n",
              "      <td>0.316402</td>\n",
              "      <td>0.116616</td>\n",
              "      <td>0.287685</td>\n",
              "      <td>0.089084</td>\n",
              "      <td>0.216855</td>\n",
              "      <td>0.216855</td>\n",
              "      <td>0.516030</td>\n",
              "      <td>3.669025</td>\n",
              "      <td>0.489829</td>\n",
              "      <td>0.489829</td>\n",
              "    </tr>\n",
              "    <tr>\n",
              "      <th>min</th>\n",
              "      <td>0.000000</td>\n",
              "      <td>66.000000</td>\n",
              "      <td>1.000000</td>\n",
              "      <td>1.000000</td>\n",
              "      <td>0.000000</td>\n",
              "      <td>9.000000</td>\n",
              "      <td>1.000000</td>\n",
              "      <td>0.000000</td>\n",
              "      <td>0.000000</td>\n",
              "      <td>0.000000</td>\n",
              "      <td>0.000000</td>\n",
              "      <td>0.000000</td>\n",
              "      <td>0.000000</td>\n",
              "      <td>0.000000</td>\n",
              "      <td>0.000000</td>\n",
              "      <td>0.000000</td>\n",
              "      <td>0.000000</td>\n",
              "      <td>0.000000</td>\n",
              "    </tr>\n",
              "    <tr>\n",
              "      <th>25%</th>\n",
              "      <td>2380.000000</td>\n",
              "      <td>16742.000000</td>\n",
              "      <td>2.000000</td>\n",
              "      <td>1.000000</td>\n",
              "      <td>1.000000</td>\n",
              "      <td>36.000000</td>\n",
              "      <td>1.000000</td>\n",
              "      <td>2.000000</td>\n",
              "      <td>1.000000</td>\n",
              "      <td>0.000000</td>\n",
              "      <td>0.000000</td>\n",
              "      <td>0.000000</td>\n",
              "      <td>1.000000</td>\n",
              "      <td>0.000000</td>\n",
              "      <td>1.000000</td>\n",
              "      <td>14.000000</td>\n",
              "      <td>0.000000</td>\n",
              "      <td>0.000000</td>\n",
              "    </tr>\n",
              "    <tr>\n",
              "      <th>50%</th>\n",
              "      <td>4758.000000</td>\n",
              "      <td>33086.000000</td>\n",
              "      <td>4.000000</td>\n",
              "      <td>1.000000</td>\n",
              "      <td>2.000000</td>\n",
              "      <td>50.000000</td>\n",
              "      <td>2.000000</td>\n",
              "      <td>12.000000</td>\n",
              "      <td>1.000000</td>\n",
              "      <td>0.000000</td>\n",
              "      <td>0.000000</td>\n",
              "      <td>0.000000</td>\n",
              "      <td>1.000000</td>\n",
              "      <td>0.000000</td>\n",
              "      <td>1.000000</td>\n",
              "      <td>17.000000</td>\n",
              "      <td>1.000000</td>\n",
              "      <td>0.000000</td>\n",
              "    </tr>\n",
              "    <tr>\n",
              "      <th>75%</th>\n",
              "      <td>7143.000000</td>\n",
              "      <td>80939.000000</td>\n",
              "      <td>4.000000</td>\n",
              "      <td>2.000000</td>\n",
              "      <td>3.000000</td>\n",
              "      <td>80.000000</td>\n",
              "      <td>2.000000</td>\n",
              "      <td>52.000000</td>\n",
              "      <td>1.000000</td>\n",
              "      <td>0.000000</td>\n",
              "      <td>0.000000</td>\n",
              "      <td>0.000000</td>\n",
              "      <td>1.000000</td>\n",
              "      <td>0.000000</td>\n",
              "      <td>1.000000</td>\n",
              "      <td>19.000000</td>\n",
              "      <td>1.000000</td>\n",
              "      <td>1.000000</td>\n",
              "    </tr>\n",
              "    <tr>\n",
              "      <th>max</th>\n",
              "      <td>9581.000000</td>\n",
              "      <td>165084.000000</td>\n",
              "      <td>16.000000</td>\n",
              "      <td>12.000000</td>\n",
              "      <td>44.000000</td>\n",
              "      <td>8000.000000</td>\n",
              "      <td>1000.000000</td>\n",
              "      <td>745.000000</td>\n",
              "      <td>1.000000</td>\n",
              "      <td>1.000000</td>\n",
              "      <td>1.000000</td>\n",
              "      <td>1.000000</td>\n",
              "      <td>1.000000</td>\n",
              "      <td>1.000000</td>\n",
              "      <td>12.000000</td>\n",
              "      <td>20.000000</td>\n",
              "      <td>1.000000</td>\n",
              "      <td>1.000000</td>\n",
              "    </tr>\n",
              "  </tbody>\n",
              "</table>\n",
              "</div>"
            ],
            "text/plain": [
              "        Unnamed: 0  neighbourhood_cleansed  accommodates     bedrooms  \\\n",
              "count  9501.000000             9501.000000   9501.000000  9501.000000   \n",
              "mean   4765.645300            58909.771919      3.842227     1.455005   \n",
              "std    2758.526004            56496.229000      1.958101     0.775141   \n",
              "min       0.000000               66.000000      1.000000     1.000000   \n",
              "25%    2380.000000            16742.000000      2.000000     1.000000   \n",
              "50%    4758.000000            33086.000000      4.000000     1.000000   \n",
              "75%    7143.000000            80939.000000      4.000000     2.000000   \n",
              "max    9581.000000           165084.000000     16.000000    12.000000   \n",
              "\n",
              "              beds        price  minimum_nights  number_of_reviews  \\\n",
              "count  9501.000000  9501.000000     9501.000000        9501.000000   \n",
              "mean      2.103358    82.759815        3.228502          42.717609   \n",
              "std       1.553350   289.474447       19.657534          70.161898   \n",
              "min       0.000000     9.000000        1.000000           0.000000   \n",
              "25%       1.000000    36.000000        1.000000           2.000000   \n",
              "50%       2.000000    50.000000        2.000000          12.000000   \n",
              "75%       3.000000    80.000000        2.000000          52.000000   \n",
              "max      44.000000  8000.000000     1000.000000         745.000000   \n",
              "\n",
              "       Home or apt   Hotel room  Private room  Shared room  Private Bath  \\\n",
              "count  9501.000000  9501.000000   9501.000000  9501.000000   9501.000000   \n",
              "mean      0.887170     0.013788      0.091043     0.007999      0.950532   \n",
              "std       0.316402     0.116616      0.287685     0.089084      0.216855   \n",
              "min       0.000000     0.000000      0.000000     0.000000      0.000000   \n",
              "25%       1.000000     0.000000      0.000000     0.000000      1.000000   \n",
              "50%       1.000000     0.000000      0.000000     0.000000      1.000000   \n",
              "75%       1.000000     0.000000      0.000000     0.000000      1.000000   \n",
              "max       1.000000     1.000000      1.000000     1.000000      1.000000   \n",
              "\n",
              "       Shared Bath  bathrooms_number    amenities  not_a_superhost  \\\n",
              "count  9501.000000       9501.000000  9501.000000      9501.000000   \n",
              "mean      0.049468          1.206978    15.709925         0.600463   \n",
              "std       0.216855          0.516030     3.669025         0.489829   \n",
              "min       0.000000          0.000000     0.000000         0.000000   \n",
              "25%       0.000000          1.000000    14.000000         0.000000   \n",
              "50%       0.000000          1.000000    17.000000         1.000000   \n",
              "75%       0.000000          1.000000    19.000000         1.000000   \n",
              "max       1.000000         12.000000    20.000000         1.000000   \n",
              "\n",
              "         superhost  \n",
              "count  9501.000000  \n",
              "mean      0.399537  \n",
              "std       0.489829  \n",
              "min       0.000000  \n",
              "25%       0.000000  \n",
              "50%       0.000000  \n",
              "75%       1.000000  \n",
              "max       1.000000  "
            ]
          },
          "execution_count": 18,
          "metadata": {},
          "output_type": "execute_result"
        }
      ],
      "source": [
        "# Describe the prepocessed data set.\n",
        "\n",
        "df.describe()"
      ]
    },
    {
      "cell_type": "code",
      "execution_count": 19,
      "metadata": {
        "id": "g4MVO4CWf1b3"
      },
      "outputs": [
        {
          "data": {
            "text/plain": [
              "Unnamed: 0                 4758.0\n",
              "neighbourhood_cleansed    33086.0\n",
              "accommodates                  4.0\n",
              "bedrooms                      1.0\n",
              "beds                          2.0\n",
              "price                        50.0\n",
              "minimum_nights                2.0\n",
              "number_of_reviews            12.0\n",
              "Home or apt                   1.0\n",
              "Hotel room                    0.0\n",
              "Private room                  0.0\n",
              "Shared room                   0.0\n",
              "Private Bath                  1.0\n",
              "Shared Bath                   0.0\n",
              "bathrooms_number              1.0\n",
              "amenities                    17.0\n",
              "not_a_superhost               1.0\n",
              "superhost                     0.0\n",
              "dtype: float64"
            ]
          },
          "execution_count": 19,
          "metadata": {},
          "output_type": "execute_result"
        }
      ],
      "source": [
        "df.median()"
      ]
    },
    {
      "cell_type": "code",
      "execution_count": 20,
      "metadata": {
        "id": "5vwo-cACe6cj"
      },
      "outputs": [
        {
          "data": {
            "text/plain": [
              "(9501, 18)"
            ]
          },
          "execution_count": 20,
          "metadata": {},
          "output_type": "execute_result"
        }
      ],
      "source": [
        "df.shape"
      ]
    },
    {
      "cell_type": "markdown",
      "metadata": {},
      "source": [
        "Since the data doesn’t follow a normal distribution, we will calculate the outlier data points using the statistical method called interquartile range (IQR). Using the IQR, the outlier data points are the ones falling below Q1–1.5 IQR or above Q3 + 1.5 IQR. The Q1 is the 25th percentile and Q3 is the 75th percentile of the dataset, and IQR represents the interquartile range calculated by Q3 minus Q1 (Q3–Q1)."
      ]
    },
    {
      "cell_type": "code",
      "execution_count": 22,
      "metadata": {
        "id": "17E6aRowjogf"
      },
      "outputs": [],
      "source": [
        "# Replacing outliers as if they were missing values.\n",
        "\n",
        "def impute_outliers_IQR(df):\n",
        "\n",
        "   q1=df.quantile(0.25)\n",
        "\n",
        "   q3=df.quantile(0.75)\n",
        "\n",
        "   IQR=q3-q1\n",
        "\n",
        "   upper = df[~(df>(q3+1.5*IQR))].max()\n",
        "\n",
        "   lower = df[~(df<(q1-1.5*IQR))].min()\n",
        "\n",
        "   df = np.where(df > upper,\n",
        "\n",
        "       df.median(),\n",
        "\n",
        "       np.where(\n",
        "\n",
        "           df < lower,\n",
        "\n",
        "           df.median(),\n",
        "\n",
        "           df\n",
        "\n",
        "           )\n",
        "\n",
        "       )\n",
        "\n",
        "   return df"
      ]
    },
    {
      "cell_type": "code",
      "execution_count": 23,
      "metadata": {
        "id": "RzZXNSnujU_i"
      },
      "outputs": [
        {
          "data": {
            "text/html": [
              "<div>\n",
              "<style scoped>\n",
              "    .dataframe tbody tr th:only-of-type {\n",
              "        vertical-align: middle;\n",
              "    }\n",
              "\n",
              "    .dataframe tbody tr th {\n",
              "        vertical-align: top;\n",
              "    }\n",
              "\n",
              "    .dataframe thead th {\n",
              "        text-align: right;\n",
              "    }\n",
              "</style>\n",
              "<table border=\"1\" class=\"dataframe\">\n",
              "  <thead>\n",
              "    <tr style=\"text-align: right;\">\n",
              "      <th></th>\n",
              "      <th>Unnamed: 0</th>\n",
              "      <th>neighbourhood_cleansed</th>\n",
              "      <th>accommodates</th>\n",
              "      <th>bedrooms</th>\n",
              "      <th>beds</th>\n",
              "      <th>price</th>\n",
              "      <th>minimum_nights</th>\n",
              "      <th>number_of_reviews</th>\n",
              "      <th>Home or apt</th>\n",
              "      <th>Hotel room</th>\n",
              "      <th>Private room</th>\n",
              "      <th>Shared room</th>\n",
              "      <th>Private Bath</th>\n",
              "      <th>Shared Bath</th>\n",
              "      <th>bathrooms_number</th>\n",
              "      <th>amenities</th>\n",
              "      <th>not_a_superhost</th>\n",
              "      <th>superhost</th>\n",
              "    </tr>\n",
              "  </thead>\n",
              "  <tbody>\n",
              "    <tr>\n",
              "      <th>count</th>\n",
              "      <td>9501.000000</td>\n",
              "      <td>9501.000000</td>\n",
              "      <td>9501.000000</td>\n",
              "      <td>9501.000000</td>\n",
              "      <td>9501.000000</td>\n",
              "      <td>9501.000000</td>\n",
              "      <td>9501.000000</td>\n",
              "      <td>9501.000000</td>\n",
              "      <td>9501.0</td>\n",
              "      <td>9501.0</td>\n",
              "      <td>9501.0</td>\n",
              "      <td>9501.0</td>\n",
              "      <td>9501.0</td>\n",
              "      <td>9501.0</td>\n",
              "      <td>9501.0</td>\n",
              "      <td>9501.000000</td>\n",
              "      <td>9501.000000</td>\n",
              "      <td>9501.000000</td>\n",
              "    </tr>\n",
              "    <tr>\n",
              "      <th>mean</th>\n",
              "      <td>4765.645300</td>\n",
              "      <td>58909.771919</td>\n",
              "      <td>3.581097</td>\n",
              "      <td>1.377434</td>\n",
              "      <td>1.992211</td>\n",
              "      <td>55.391748</td>\n",
              "      <td>1.680349</td>\n",
              "      <td>22.509736</td>\n",
              "      <td>1.0</td>\n",
              "      <td>0.0</td>\n",
              "      <td>0.0</td>\n",
              "      <td>0.0</td>\n",
              "      <td>1.0</td>\n",
              "      <td>0.0</td>\n",
              "      <td>1.0</td>\n",
              "      <td>15.950742</td>\n",
              "      <td>0.600463</td>\n",
              "      <td>0.399537</td>\n",
              "    </tr>\n",
              "    <tr>\n",
              "      <th>std</th>\n",
              "      <td>2758.526004</td>\n",
              "      <td>56496.229000</td>\n",
              "      <td>1.369163</td>\n",
              "      <td>0.584404</td>\n",
              "      <td>1.136172</td>\n",
              "      <td>26.975088</td>\n",
              "      <td>0.663343</td>\n",
              "      <td>29.883434</td>\n",
              "      <td>0.0</td>\n",
              "      <td>0.0</td>\n",
              "      <td>0.0</td>\n",
              "      <td>0.0</td>\n",
              "      <td>0.0</td>\n",
              "      <td>0.0</td>\n",
              "      <td>0.0</td>\n",
              "      <td>3.309587</td>\n",
              "      <td>0.489829</td>\n",
              "      <td>0.489829</td>\n",
              "    </tr>\n",
              "    <tr>\n",
              "      <th>min</th>\n",
              "      <td>0.000000</td>\n",
              "      <td>66.000000</td>\n",
              "      <td>1.000000</td>\n",
              "      <td>1.000000</td>\n",
              "      <td>0.000000</td>\n",
              "      <td>9.000000</td>\n",
              "      <td>1.000000</td>\n",
              "      <td>0.000000</td>\n",
              "      <td>1.0</td>\n",
              "      <td>0.0</td>\n",
              "      <td>0.0</td>\n",
              "      <td>0.0</td>\n",
              "      <td>1.0</td>\n",
              "      <td>0.0</td>\n",
              "      <td>1.0</td>\n",
              "      <td>7.000000</td>\n",
              "      <td>0.000000</td>\n",
              "      <td>0.000000</td>\n",
              "    </tr>\n",
              "    <tr>\n",
              "      <th>25%</th>\n",
              "      <td>2380.000000</td>\n",
              "      <td>16742.000000</td>\n",
              "      <td>2.000000</td>\n",
              "      <td>1.000000</td>\n",
              "      <td>1.000000</td>\n",
              "      <td>36.000000</td>\n",
              "      <td>1.000000</td>\n",
              "      <td>2.000000</td>\n",
              "      <td>1.0</td>\n",
              "      <td>0.0</td>\n",
              "      <td>0.0</td>\n",
              "      <td>0.0</td>\n",
              "      <td>1.0</td>\n",
              "      <td>0.0</td>\n",
              "      <td>1.0</td>\n",
              "      <td>14.000000</td>\n",
              "      <td>0.000000</td>\n",
              "      <td>0.000000</td>\n",
              "    </tr>\n",
              "    <tr>\n",
              "      <th>50%</th>\n",
              "      <td>4758.000000</td>\n",
              "      <td>33086.000000</td>\n",
              "      <td>4.000000</td>\n",
              "      <td>1.000000</td>\n",
              "      <td>2.000000</td>\n",
              "      <td>50.000000</td>\n",
              "      <td>2.000000</td>\n",
              "      <td>12.000000</td>\n",
              "      <td>1.0</td>\n",
              "      <td>0.0</td>\n",
              "      <td>0.0</td>\n",
              "      <td>0.0</td>\n",
              "      <td>1.0</td>\n",
              "      <td>0.0</td>\n",
              "      <td>1.0</td>\n",
              "      <td>17.000000</td>\n",
              "      <td>1.000000</td>\n",
              "      <td>0.000000</td>\n",
              "    </tr>\n",
              "    <tr>\n",
              "      <th>75%</th>\n",
              "      <td>7143.000000</td>\n",
              "      <td>80939.000000</td>\n",
              "      <td>4.000000</td>\n",
              "      <td>2.000000</td>\n",
              "      <td>3.000000</td>\n",
              "      <td>68.000000</td>\n",
              "      <td>2.000000</td>\n",
              "      <td>31.000000</td>\n",
              "      <td>1.0</td>\n",
              "      <td>0.0</td>\n",
              "      <td>0.0</td>\n",
              "      <td>0.0</td>\n",
              "      <td>1.0</td>\n",
              "      <td>0.0</td>\n",
              "      <td>1.0</td>\n",
              "      <td>19.000000</td>\n",
              "      <td>1.000000</td>\n",
              "      <td>1.000000</td>\n",
              "    </tr>\n",
              "    <tr>\n",
              "      <th>max</th>\n",
              "      <td>9581.000000</td>\n",
              "      <td>165084.000000</td>\n",
              "      <td>7.000000</td>\n",
              "      <td>3.000000</td>\n",
              "      <td>6.000000</td>\n",
              "      <td>146.000000</td>\n",
              "      <td>3.000000</td>\n",
              "      <td>127.000000</td>\n",
              "      <td>1.0</td>\n",
              "      <td>0.0</td>\n",
              "      <td>0.0</td>\n",
              "      <td>0.0</td>\n",
              "      <td>1.0</td>\n",
              "      <td>0.0</td>\n",
              "      <td>1.0</td>\n",
              "      <td>20.000000</td>\n",
              "      <td>1.000000</td>\n",
              "      <td>1.000000</td>\n",
              "    </tr>\n",
              "  </tbody>\n",
              "</table>\n",
              "</div>"
            ],
            "text/plain": [
              "        Unnamed: 0  neighbourhood_cleansed  accommodates     bedrooms  \\\n",
              "count  9501.000000             9501.000000   9501.000000  9501.000000   \n",
              "mean   4765.645300            58909.771919      3.581097     1.377434   \n",
              "std    2758.526004            56496.229000      1.369163     0.584404   \n",
              "min       0.000000               66.000000      1.000000     1.000000   \n",
              "25%    2380.000000            16742.000000      2.000000     1.000000   \n",
              "50%    4758.000000            33086.000000      4.000000     1.000000   \n",
              "75%    7143.000000            80939.000000      4.000000     2.000000   \n",
              "max    9581.000000           165084.000000      7.000000     3.000000   \n",
              "\n",
              "              beds        price  minimum_nights  number_of_reviews  \\\n",
              "count  9501.000000  9501.000000     9501.000000        9501.000000   \n",
              "mean      1.992211    55.391748        1.680349          22.509736   \n",
              "std       1.136172    26.975088        0.663343          29.883434   \n",
              "min       0.000000     9.000000        1.000000           0.000000   \n",
              "25%       1.000000    36.000000        1.000000           2.000000   \n",
              "50%       2.000000    50.000000        2.000000          12.000000   \n",
              "75%       3.000000    68.000000        2.000000          31.000000   \n",
              "max       6.000000   146.000000        3.000000         127.000000   \n",
              "\n",
              "       Home or apt  Hotel room  Private room  Shared room  Private Bath  \\\n",
              "count       9501.0      9501.0        9501.0       9501.0        9501.0   \n",
              "mean           1.0         0.0           0.0          0.0           1.0   \n",
              "std            0.0         0.0           0.0          0.0           0.0   \n",
              "min            1.0         0.0           0.0          0.0           1.0   \n",
              "25%            1.0         0.0           0.0          0.0           1.0   \n",
              "50%            1.0         0.0           0.0          0.0           1.0   \n",
              "75%            1.0         0.0           0.0          0.0           1.0   \n",
              "max            1.0         0.0           0.0          0.0           1.0   \n",
              "\n",
              "       Shared Bath  bathrooms_number    amenities  not_a_superhost  \\\n",
              "count       9501.0            9501.0  9501.000000      9501.000000   \n",
              "mean           0.0               1.0    15.950742         0.600463   \n",
              "std            0.0               0.0     3.309587         0.489829   \n",
              "min            0.0               1.0     7.000000         0.000000   \n",
              "25%            0.0               1.0    14.000000         0.000000   \n",
              "50%            0.0               1.0    17.000000         1.000000   \n",
              "75%            0.0               1.0    19.000000         1.000000   \n",
              "max            0.0               1.0    20.000000         1.000000   \n",
              "\n",
              "         superhost  \n",
              "count  9501.000000  \n",
              "mean      0.399537  \n",
              "std       0.489829  \n",
              "min       0.000000  \n",
              "25%       0.000000  \n",
              "50%       0.000000  \n",
              "75%       1.000000  \n",
              "max       1.000000  "
            ]
          },
          "execution_count": 23,
          "metadata": {},
          "output_type": "execute_result"
        }
      ],
      "source": [
        "# New dataframe, called df_no_outliers.\n",
        "\n",
        "df_no_outliers = impute_outliers_IQR(df)\n",
        "df_no_outliers = pd.DataFrame(df_no_outliers, columns = df.columns)\n",
        "df_no_outliers.describe()"
      ]
    },
    {
      "cell_type": "markdown",
      "metadata": {
        "id": "Ekbv0KR1M4oa"
      },
      "source": [
        "Testing the models with the new dataset"
      ]
    },
    {
      "cell_type": "code",
      "execution_count": 24,
      "metadata": {
        "id": "RldT_6I9kako"
      },
      "outputs": [
        {
          "data": {
            "text/plain": [
              "((6650, 17), (2851, 17), (6650,), (2851,))"
            ]
          },
          "execution_count": 24,
          "metadata": {},
          "output_type": "execute_result"
        }
      ],
      "source": [
        "X = df_no_outliers.drop(columns='price')\n",
        "y = df_no_outliers.price\n",
        "X.shape, y.shape\n",
        "\n",
        "X_train, X_test, y_train, y_test = train_test_split(X, y, test_size=0.3)\n",
        "\n",
        "X_train.shape, X_test.shape, y_train.shape, y_test.shape"
      ]
    },
    {
      "cell_type": "code",
      "execution_count": 25,
      "metadata": {
        "id": "EVHr8S4s4iuR"
      },
      "outputs": [
        {
          "name": "stdout",
          "output_type": "stream",
          "text": [
            "Linear Regression results: 18.982645153893664 and 0.4165136758860566\n"
          ]
        }
      ],
      "source": [
        "#Linear Regression\n",
        "\n",
        "lr = LinearRegression()\n",
        "\n",
        "lr.fit(X_train,y_train)\n",
        "\n",
        "preds = lr.predict(X_test)\n",
        "\n",
        "mae = mean_absolute_error(y_test, preds)\n",
        "mape = mean_absolute_percentage_error(y_test, preds)\n",
        "\n",
        "print(f'Linear Regression results: {mae} and {mape}')"
      ]
    },
    {
      "cell_type": "code",
      "execution_count": 26,
      "metadata": {
        "id": "h0hNSTBW4tle"
      },
      "outputs": [
        {
          "name": "stdout",
          "output_type": "stream",
          "text": [
            "KNN Regression results: 20.184707120308666 and 0.43658771341581043\n"
          ]
        }
      ],
      "source": [
        "# KNN Regression\n",
        "\n",
        "knn = KNeighborsRegressor()\n",
        "\n",
        "knn.fit(X_train,y_train)\n",
        "\n",
        "preds = knn.predict(X_test)\n",
        "\n",
        "mae = mean_absolute_error(y_test, preds)\n",
        "mape = mean_absolute_percentage_error(y_test, preds)\n",
        "\n",
        "print(f'KNN Regression results: {mae} and {mape}')"
      ]
    },
    {
      "cell_type": "code",
      "execution_count": 27,
      "metadata": {
        "id": "BmH-W3Bv41Tg"
      },
      "outputs": [
        {
          "name": "stdout",
          "output_type": "stream",
          "text": [
            "SVM Regression results: 19.471358320448825 and 0.40159115664689876\n"
          ]
        }
      ],
      "source": [
        "# SVM \n",
        "\n",
        "svm = SVR()\n",
        "\n",
        "svm.fit(X_train,y_train)\n",
        "\n",
        "preds = svm.predict(X_test)\n",
        "\n",
        "mae = mean_absolute_error(y_test, preds)\n",
        "mape = mean_absolute_percentage_error(y_test, preds)\n",
        "\n",
        "print(f'SVM Regression results: {mae} and {mape}')"
      ]
    },
    {
      "cell_type": "code",
      "execution_count": 28,
      "metadata": {
        "id": "7QnO87aM47rR"
      },
      "outputs": [
        {
          "name": "stdout",
          "output_type": "stream",
          "text": [
            "Random Forest results: 17.283917923535604 and 0.3576671106666772\n"
          ]
        }
      ],
      "source": [
        "#Random Forest\n",
        "\n",
        "rf = RandomForestRegressor()\n",
        "\n",
        "rf.fit(X_train,y_train)\n",
        "\n",
        "preds = rf.predict(X_test)\n",
        "\n",
        "mae = mean_absolute_error(y_test, preds)\n",
        "mape = mean_absolute_percentage_error(y_test, preds)\n",
        "\n",
        "print(f'Random Forest results: {mae} and {mape}')"
      ]
    },
    {
      "cell_type": "code",
      "execution_count": 29,
      "metadata": {
        "id": "zxYuZLTv5Gbu"
      },
      "outputs": [
        {
          "name": "stdout",
          "output_type": "stream",
          "text": [
            "Gradient Boosting results: 17.72976536611729 and 0.3733739096149616\n"
          ]
        }
      ],
      "source": [
        "#Gradient Boosting\n",
        "\n",
        "gb = GradientBoostingRegressor()\n",
        "\n",
        "gb.fit(X_train,y_train)\n",
        "\n",
        "preds = gb.predict(X_test)\n",
        "\n",
        "mae = mean_absolute_error(y_test, preds)\n",
        "mape = mean_absolute_percentage_error(y_test, preds)\n",
        "\n",
        "print(f'Gradient Boosting results: {mae} and {mape}')"
      ]
    },
    {
      "cell_type": "code",
      "execution_count": 30,
      "metadata": {
        "id": "IdZrkBty5KdA"
      },
      "outputs": [
        {
          "name": "stdout",
          "output_type": "stream",
          "text": [
            "ADA results: 17.730195847496187 and 0.37338657083198784\n"
          ]
        }
      ],
      "source": [
        "#Ada Boosting\n",
        "\n",
        "ada = GradientBoostingRegressor()\n",
        "\n",
        "ada.fit(X_train,y_train)\n",
        "\n",
        "preds = ada.predict(X_test)\n",
        "\n",
        "mae = mean_absolute_error(y_test, preds)\n",
        "mape = mean_absolute_percentage_error(y_test, preds)\n",
        "\n",
        "print(f'ADA results: {mae} and {mape}')"
      ]
    },
    {
      "cell_type": "code",
      "execution_count": 31,
      "metadata": {
        "id": "la1Boyge5O19"
      },
      "outputs": [],
      "source": [
        "# Scaling"
      ]
    },
    {
      "cell_type": "code",
      "execution_count": 32,
      "metadata": {
        "id": "a-Mwutumkg7l"
      },
      "outputs": [],
      "source": [
        "sc = StandardScaler()\n",
        "\n",
        "X_train_sc = sc.fit_transform(X_train)\n",
        "X_test_sc = sc.transform(X_test)"
      ]
    },
    {
      "cell_type": "code",
      "execution_count": 33,
      "metadata": {
        "id": "vYKZ8qgGkvX3"
      },
      "outputs": [
        {
          "name": "stdout",
          "output_type": "stream",
          "text": [
            "SVM Regression results: 18.411189565588714 and 0.3615855331352892\n"
          ]
        }
      ],
      "source": [
        "# SVM in scaled data\n",
        "\n",
        "svm2 = SVR(kernel='linear' )\n",
        "\n",
        "svm2.fit(X_train_sc,y_train)\n",
        "\n",
        "preds = svm2.predict(X_test_sc)\n",
        "\n",
        "mae = mean_absolute_error(y_test, preds)\n",
        "mape = mean_absolute_percentage_error(y_test, preds)\n",
        "\n",
        "print(f'SVM Regression results: {mae} and {mape}')"
      ]
    },
    {
      "cell_type": "code",
      "execution_count": 34,
      "metadata": {
        "id": "Ie_511cjoMAy"
      },
      "outputs": [
        {
          "name": "stdout",
          "output_type": "stream",
          "text": [
            "Random Forest results: 17.183931953700455 and 0.35605532234484744\n"
          ]
        }
      ],
      "source": [
        "#Random Forest in scaled data\n",
        "\n",
        "rf2 = RandomForestRegressor()\n",
        "\n",
        "rf2.fit(X_train_sc,y_train)\n",
        "\n",
        "preds = rf2.predict(X_test_sc)\n",
        "\n",
        "mae = mean_absolute_error(y_test, preds)\n",
        "mape = mean_absolute_percentage_error(y_test, preds)\n",
        "\n",
        "print(f'Random Forest results: {mae} and {mape}')"
      ]
    },
    {
      "cell_type": "code",
      "execution_count": 35,
      "metadata": {
        "id": "VRCLYCv8oQch"
      },
      "outputs": [
        {
          "name": "stdout",
          "output_type": "stream",
          "text": [
            "Linear Regression results: 18.983368009312127 and 0.41656513235100295\n"
          ]
        }
      ],
      "source": [
        "#Linear Regression in scaled data\n",
        "\n",
        "lr2 = LinearRegression()\n",
        "\n",
        "lr2.fit(X_train_sc,y_train)\n",
        "\n",
        "preds = lr2.predict(X_test_sc)\n",
        "\n",
        "mae = mean_absolute_error(y_test, preds)\n",
        "mape = mean_absolute_percentage_error(y_test, preds)\n",
        "\n",
        "print(f'Linear Regression results: {mae} and {mape}')"
      ]
    },
    {
      "cell_type": "code",
      "execution_count": 36,
      "metadata": {
        "id": "tb6PlpNBoBn1"
      },
      "outputs": [
        {
          "name": "stdout",
          "output_type": "stream",
          "text": [
            "Gradient Boosting results: 17.72461429832971 and 0.3733002757541409\n"
          ]
        }
      ],
      "source": [
        "#Gradient Boosting in scaled data\n",
        "\n",
        "gb2 = GradientBoostingRegressor()\n",
        "\n",
        "gb2.fit(X_train_sc,y_train)\n",
        "\n",
        "preds = gb2.predict(X_test_sc)\n",
        "\n",
        "mae = mean_absolute_error(y_test, preds)\n",
        "mape = mean_absolute_percentage_error(y_test, preds)\n",
        "\n",
        "print(f'Gradient Boosting results: {mae} and {mape}')"
      ]
    },
    {
      "cell_type": "markdown",
      "metadata": {
        "id": "eWhUfhIsO-F5"
      },
      "source": [
        "Testing if cross validation can improve the model even more"
      ]
    },
    {
      "cell_type": "code",
      "execution_count": 37,
      "metadata": {
        "id": "eNPR-JweoEII"
      },
      "outputs": [
        {
          "data": {
            "text/plain": [
              "'Grid Search for cross validation'"
            ]
          },
          "execution_count": 37,
          "metadata": {},
          "output_type": "execute_result"
        }
      ],
      "source": [
        "\"\"\"Grid Search for cross validation\"\"\""
      ]
    },
    {
      "cell_type": "code",
      "execution_count": 38,
      "metadata": {
        "id": "f2j6_wuLoYyT"
      },
      "outputs": [
        {
          "data": {
            "text/plain": [
              "\"\\nGBR=GradientBoostingRegressor()\\ngridGBR={'n_estimators':[500,1000,2000],'learning_rate':[.001,0.01,.1],'max_depth':[1,2,4],'subsample':[.5,.75,1],'random_state':[1]}\\ngridGBR=GridSearchCV(estimator=GBR,param_grid=search_grid,scoring='neg_mean_squared_error',n_jobs=1,cv=10,verbose=2)\\ngridGBR.fit(X_train_sc,y_train)\\ngridGBR.best_params_\\n\""
            ]
          },
          "execution_count": 38,
          "metadata": {},
          "output_type": "execute_result"
        }
      ],
      "source": [
        "# Gradient Boosting Grid Search\n",
        "'''\n",
        "GBR=GradientBoostingRegressor()\n",
        "gridGBR={'n_estimators':[500,1000,2000],'learning_rate':[.001,0.01,.1],'max_depth':[1,2,4],'subsample':[.5,.75,1],'random_state':[1]}\n",
        "gridGBR=GridSearchCV(estimator=GBR,param_grid=search_grid,scoring='neg_mean_squared_error',n_jobs=1,cv=10,verbose=2)\n",
        "gridGBR.fit(X_train_sc,y_train)\n",
        "gridGBR.best_params_\n",
        "'''"
      ]
    },
    {
      "cell_type": "code",
      "execution_count": 39,
      "metadata": {
        "id": "egqkeOw-pxTn"
      },
      "outputs": [],
      "source": [
        "# print(gridGBR.best_params_)\n",
        "# Best parametres:\n",
        "# {'learning_rate': 0.01, 'max_depth': 4, 'n_estimators': 1000, 'random_state': 1, 'subsample': 0.5}"
      ]
    },
    {
      "cell_type": "code",
      "execution_count": 40,
      "metadata": {
        "id": "hUnlSS9i2UB1"
      },
      "outputs": [],
      "source": [
        "# preds = gridGBR.predict(X_test_sc)\n",
        "\n",
        "# mae = mean_absolute_error(y_test, preds)\n",
        "# mape = mean_absolute_percentage_error(y_test, preds)\n",
        "\n",
        "# print(f'Gradient Boosting results: {mae} and {mape}')"
      ]
    },
    {
      "cell_type": "markdown",
      "metadata": {
        "id": "BgefVBLoQbvr"
      },
      "source": [
        "Best model appears to be Random Forest"
      ]
    },
    {
      "cell_type": "code",
      "execution_count": 41,
      "metadata": {
        "id": "Qo0hCMD5OE6N"
      },
      "outputs": [
        {
          "data": {
            "text/plain": [
              "['data/best_model.sav']"
            ]
          },
          "execution_count": 41,
          "metadata": {},
          "output_type": "execute_result"
        }
      ],
      "source": [
        "# Save the best model\n",
        "\n",
        "filename = 'data/best_model.sav'\n",
        "joblib.dump(rf, filename)"
      ]
    }
  ],
  "metadata": {
    "colab": {
      "collapsed_sections": [],
      "provenance": []
    },
    "kernelspec": {
      "display_name": "Python 3.9.9 64-bit",
      "language": "python",
      "name": "python3"
    },
    "language_info": {
      "codemirror_mode": {
        "name": "ipython",
        "version": 3
      },
      "file_extension": ".py",
      "mimetype": "text/x-python",
      "name": "python",
      "nbconvert_exporter": "python",
      "pygments_lexer": "ipython3",
      "version": "3.9.9"
    },
    "vscode": {
      "interpreter": {
        "hash": "3f28a355f7da962bce0e51ab4801b31e65054417fc84fea33325270959364ce2"
      }
    }
  },
  "nbformat": 4,
  "nbformat_minor": 0
}
