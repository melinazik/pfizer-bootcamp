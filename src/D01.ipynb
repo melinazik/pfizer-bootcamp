{
  "cells": [
    {
      "cell_type": "markdown",
      "metadata": {
        "id": "ezv-V8yrSOvd"
      },
      "source": [
        "**Team 4 / Exploratory Data Analysis / D01**"
      ]
    },
    {
      "cell_type": "markdown",
      "metadata": {
        "id": "z8CZ1SoNcSKb"
      },
      "source": [
        "Below there are the answers to the questions concerning various characteristics of the data."
      ]
    },
    {
      "cell_type": "code",
      "execution_count": null,
      "metadata": {
        "id": "kHCT7NlDSOvk"
      },
      "outputs": [],
      "source": [
        "import pandas as pd\n",
        "import numpy as np\n",
        "from datetime import datetime\n",
        "from collections import Counter\n",
        "import matplotlib.pyplot as plt\n",
        "import seaborn as sns\n",
        "from wordcloud import WordCloud, STOPWORDS\n",
        "import collections"
      ]
    },
    {
      "cell_type": "code",
      "execution_count": null,
      "metadata": {
        "id": "x9omHZcUQwpi"
      },
      "outputs": [],
      "source": [
        "df = pd.read_csv(\"data/listings.csv\")"
      ]
    },
    {
      "cell_type": "code",
      "execution_count": null,
      "metadata": {
        "colab": {
          "base_uri": "https://localhost:8080/",
          "height": 646
        },
        "id": "j3xOZ94vSOvn",
        "outputId": "261533c8-5027-456c-c10b-1ffb9b8773f4"
      },
      "outputs": [
        {
          "data": {
            "text/html": [
              "\n",
              "  <div id=\"df-6dd97f47-e8f4-4994-8bdf-7dc244a0798b\">\n",
              "    <div class=\"colab-df-container\">\n",
              "      <div>\n",
              "<style scoped>\n",
              "    .dataframe tbody tr th:only-of-type {\n",
              "        vertical-align: middle;\n",
              "    }\n",
              "\n",
              "    .dataframe tbody tr th {\n",
              "        vertical-align: top;\n",
              "    }\n",
              "\n",
              "    .dataframe thead th {\n",
              "        text-align: right;\n",
              "    }\n",
              "</style>\n",
              "<table border=\"1\" class=\"dataframe\">\n",
              "  <thead>\n",
              "    <tr style=\"text-align: right;\">\n",
              "      <th></th>\n",
              "      <th>id</th>\n",
              "      <th>listing_url</th>\n",
              "      <th>scrape_id</th>\n",
              "      <th>last_scraped</th>\n",
              "      <th>name</th>\n",
              "      <th>description</th>\n",
              "      <th>neighborhood_overview</th>\n",
              "      <th>picture_url</th>\n",
              "      <th>host_id</th>\n",
              "      <th>host_url</th>\n",
              "      <th>...</th>\n",
              "      <th>number_of_reviews_l30d</th>\n",
              "      <th>first_review</th>\n",
              "      <th>last_review</th>\n",
              "      <th>license</th>\n",
              "      <th>instant_bookable</th>\n",
              "      <th>calculated_host_listings_count</th>\n",
              "      <th>calculated_host_listings_count_entire_homes</th>\n",
              "      <th>calculated_host_listings_count_private_rooms</th>\n",
              "      <th>calculated_host_listings_count_shared_rooms</th>\n",
              "      <th>reviews_per_month</th>\n",
              "    </tr>\n",
              "  </thead>\n",
              "  <tbody>\n",
              "    <tr>\n",
              "      <th>0</th>\n",
              "      <td>10595</td>\n",
              "      <td>https://www.airbnb.com/rooms/10595</td>\n",
              "      <td>20211025162728</td>\n",
              "      <td>2021-10-26</td>\n",
              "      <td>96m2, 3BR, 2BA, Metro, WI-FI etc...</td>\n",
              "      <td>Athens Furnished Apartment No6 is 3-bedroom ap...</td>\n",
              "      <td>Ampelokipi district is nice multinational and ...</td>\n",
              "      <td>https://a0.muscache.com/pictures/f7e19a44-5afe...</td>\n",
              "      <td>37177</td>\n",
              "      <td>https://www.airbnb.com/users/show/37177</td>\n",
              "      <td>...</td>\n",
              "      <td>0</td>\n",
              "      <td>2015-05-25</td>\n",
              "      <td>2019-04-04</td>\n",
              "      <td>00000957568</td>\n",
              "      <td>t</td>\n",
              "      <td>6</td>\n",
              "      <td>6</td>\n",
              "      <td>0</td>\n",
              "      <td>0</td>\n",
              "      <td>0.41</td>\n",
              "    </tr>\n",
              "    <tr>\n",
              "      <th>1</th>\n",
              "      <td>10990</td>\n",
              "      <td>https://www.airbnb.com/rooms/10990</td>\n",
              "      <td>20211025162728</td>\n",
              "      <td>2021-10-25</td>\n",
              "      <td>Athens Quality Apartments - Deluxe Apartment</td>\n",
              "      <td>Athens Quality Apartments - Deluxe apartment i...</td>\n",
              "      <td>Ampelokipi district is nice multinational and ...</td>\n",
              "      <td>https://a0.muscache.com/pictures/8645179/c1728...</td>\n",
              "      <td>37177</td>\n",
              "      <td>https://www.airbnb.com/users/show/37177</td>\n",
              "      <td>...</td>\n",
              "      <td>1</td>\n",
              "      <td>2015-11-25</td>\n",
              "      <td>2016-02-22</td>\n",
              "      <td>00001070920</td>\n",
              "      <td>t</td>\n",
              "      <td>6</td>\n",
              "      <td>6</td>\n",
              "      <td>0</td>\n",
              "      <td>0</td>\n",
              "      <td>0.72</td>\n",
              "    </tr>\n",
              "    <tr>\n",
              "      <th>2</th>\n",
              "      <td>10993</td>\n",
              "      <td>https://www.airbnb.com/rooms/10993</td>\n",
              "      <td>20211025162728</td>\n",
              "      <td>2021-10-25</td>\n",
              "      <td>Athens Quality Apartments - Studio</td>\n",
              "      <td>The Studio is an &lt;br /&gt;-excellent located &lt;br ...</td>\n",
              "      <td>Ampelokipi district is nice multinational and ...</td>\n",
              "      <td>https://a0.muscache.com/pictures/107309527/848...</td>\n",
              "      <td>37177</td>\n",
              "      <td>https://www.airbnb.com/users/show/37177</td>\n",
              "      <td>...</td>\n",
              "      <td>3</td>\n",
              "      <td>2015-10-18</td>\n",
              "      <td>2018-03-31</td>\n",
              "      <td>00000957080</td>\n",
              "      <td>t</td>\n",
              "      <td>6</td>\n",
              "      <td>6</td>\n",
              "      <td>0</td>\n",
              "      <td>0</td>\n",
              "      <td>0.97</td>\n",
              "    </tr>\n",
              "    <tr>\n",
              "      <th>3</th>\n",
              "      <td>10995</td>\n",
              "      <td>https://www.airbnb.com/rooms/10995</td>\n",
              "      <td>20211025162728</td>\n",
              "      <td>2021-10-25</td>\n",
              "      <td>AQA-No2 1-bedroom, smart tv, fiber connection,</td>\n",
              "      <td>AQA No2 is 1-bedroom apartment (47m2), on the ...</td>\n",
              "      <td>Ampelokipi district is nice multinational and ...</td>\n",
              "      <td>https://a0.muscache.com/pictures/6a565613-aaa3...</td>\n",
              "      <td>37177</td>\n",
              "      <td>https://www.airbnb.com/users/show/37177</td>\n",
              "      <td>...</td>\n",
              "      <td>0</td>\n",
              "      <td>2015-12-05</td>\n",
              "      <td>2016-08-06</td>\n",
              "      <td>00000957422</td>\n",
              "      <td>t</td>\n",
              "      <td>6</td>\n",
              "      <td>6</td>\n",
              "      <td>0</td>\n",
              "      <td>0</td>\n",
              "      <td>0.33</td>\n",
              "    </tr>\n",
              "    <tr>\n",
              "      <th>4</th>\n",
              "      <td>27262</td>\n",
              "      <td>https://www.airbnb.com/rooms/27262</td>\n",
              "      <td>20211025162728</td>\n",
              "      <td>2021-10-26</td>\n",
              "      <td>54m2, 1-br, cable tv, wi-fi, metro</td>\n",
              "      <td>Big 1-bedroom apartment that can accommodate 4...</td>\n",
              "      <td>NaN</td>\n",
              "      <td>https://a0.muscache.com/pictures/8651803/4b82b...</td>\n",
              "      <td>37177</td>\n",
              "      <td>https://www.airbnb.com/users/show/37177</td>\n",
              "      <td>...</td>\n",
              "      <td>0</td>\n",
              "      <td>2015-11-12</td>\n",
              "      <td>2017-05-15</td>\n",
              "      <td>00000957579</td>\n",
              "      <td>t</td>\n",
              "      <td>6</td>\n",
              "      <td>6</td>\n",
              "      <td>0</td>\n",
              "      <td>0</td>\n",
              "      <td>0.23</td>\n",
              "    </tr>\n",
              "  </tbody>\n",
              "</table>\n",
              "<p>5 rows × 67 columns</p>\n",
              "</div>\n",
              "      <button class=\"colab-df-convert\" onclick=\"convertToInteractive('df-6dd97f47-e8f4-4994-8bdf-7dc244a0798b')\"\n",
              "              title=\"Convert this dataframe to an interactive table.\"\n",
              "              style=\"display:none;\">\n",
              "        \n",
              "  <svg xmlns=\"http://www.w3.org/2000/svg\" height=\"24px\"viewBox=\"0 0 24 24\"\n",
              "       width=\"24px\">\n",
              "    <path d=\"M0 0h24v24H0V0z\" fill=\"none\"/>\n",
              "    <path d=\"M18.56 5.44l.94 2.06.94-2.06 2.06-.94-2.06-.94-.94-2.06-.94 2.06-2.06.94zm-11 1L8.5 8.5l.94-2.06 2.06-.94-2.06-.94L8.5 2.5l-.94 2.06-2.06.94zm10 10l.94 2.06.94-2.06 2.06-.94-2.06-.94-.94-2.06-.94 2.06-2.06.94z\"/><path d=\"M17.41 7.96l-1.37-1.37c-.4-.4-.92-.59-1.43-.59-.52 0-1.04.2-1.43.59L10.3 9.45l-7.72 7.72c-.78.78-.78 2.05 0 2.83L4 21.41c.39.39.9.59 1.41.59.51 0 1.02-.2 1.41-.59l7.78-7.78 2.81-2.81c.8-.78.8-2.07 0-2.86zM5.41 20L4 18.59l7.72-7.72 1.47 1.35L5.41 20z\"/>\n",
              "  </svg>\n",
              "      </button>\n",
              "      \n",
              "  <style>\n",
              "    .colab-df-container {\n",
              "      display:flex;\n",
              "      flex-wrap:wrap;\n",
              "      gap: 12px;\n",
              "    }\n",
              "\n",
              "    .colab-df-convert {\n",
              "      background-color: #E8F0FE;\n",
              "      border: none;\n",
              "      border-radius: 50%;\n",
              "      cursor: pointer;\n",
              "      display: none;\n",
              "      fill: #1967D2;\n",
              "      height: 32px;\n",
              "      padding: 0 0 0 0;\n",
              "      width: 32px;\n",
              "    }\n",
              "\n",
              "    .colab-df-convert:hover {\n",
              "      background-color: #E2EBFA;\n",
              "      box-shadow: 0px 1px 2px rgba(60, 64, 67, 0.3), 0px 1px 3px 1px rgba(60, 64, 67, 0.15);\n",
              "      fill: #174EA6;\n",
              "    }\n",
              "\n",
              "    [theme=dark] .colab-df-convert {\n",
              "      background-color: #3B4455;\n",
              "      fill: #D2E3FC;\n",
              "    }\n",
              "\n",
              "    [theme=dark] .colab-df-convert:hover {\n",
              "      background-color: #434B5C;\n",
              "      box-shadow: 0px 1px 3px 1px rgba(0, 0, 0, 0.15);\n",
              "      filter: drop-shadow(0px 1px 2px rgba(0, 0, 0, 0.3));\n",
              "      fill: #FFFFFF;\n",
              "    }\n",
              "  </style>\n",
              "\n",
              "      <script>\n",
              "        const buttonEl =\n",
              "          document.querySelector('#df-6dd97f47-e8f4-4994-8bdf-7dc244a0798b button.colab-df-convert');\n",
              "        buttonEl.style.display =\n",
              "          google.colab.kernel.accessAllowed ? 'block' : 'none';\n",
              "\n",
              "        async function convertToInteractive(key) {\n",
              "          const element = document.querySelector('#df-6dd97f47-e8f4-4994-8bdf-7dc244a0798b');\n",
              "          const dataTable =\n",
              "            await google.colab.kernel.invokeFunction('convertToInteractive',\n",
              "                                                     [key], {});\n",
              "          if (!dataTable) return;\n",
              "\n",
              "          const docLinkHtml = 'Like what you see? Visit the ' +\n",
              "            '<a target=\"_blank\" href=https://colab.research.google.com/notebooks/data_table.ipynb>data table notebook</a>'\n",
              "            + ' to learn more about interactive tables.';\n",
              "          element.innerHTML = '';\n",
              "          dataTable['output_type'] = 'display_data';\n",
              "          await google.colab.output.renderOutput(dataTable, element);\n",
              "          const docLink = document.createElement('div');\n",
              "          docLink.innerHTML = docLinkHtml;\n",
              "          element.appendChild(docLink);\n",
              "        }\n",
              "      </script>\n",
              "    </div>\n",
              "  </div>\n",
              "  "
            ],
            "text/plain": [
              "      id                         listing_url       scrape_id last_scraped  \\\n",
              "0  10595  https://www.airbnb.com/rooms/10595  20211025162728   2021-10-26   \n",
              "1  10990  https://www.airbnb.com/rooms/10990  20211025162728   2021-10-25   \n",
              "2  10993  https://www.airbnb.com/rooms/10993  20211025162728   2021-10-25   \n",
              "3  10995  https://www.airbnb.com/rooms/10995  20211025162728   2021-10-25   \n",
              "4  27262  https://www.airbnb.com/rooms/27262  20211025162728   2021-10-26   \n",
              "\n",
              "                                             name  \\\n",
              "0             96m2, 3BR, 2BA, Metro, WI-FI etc...   \n",
              "1    Athens Quality Apartments - Deluxe Apartment   \n",
              "2              Athens Quality Apartments - Studio   \n",
              "3  AQA-No2 1-bedroom, smart tv, fiber connection,   \n",
              "4              54m2, 1-br, cable tv, wi-fi, metro   \n",
              "\n",
              "                                         description  \\\n",
              "0  Athens Furnished Apartment No6 is 3-bedroom ap...   \n",
              "1  Athens Quality Apartments - Deluxe apartment i...   \n",
              "2  The Studio is an <br />-excellent located <br ...   \n",
              "3  AQA No2 is 1-bedroom apartment (47m2), on the ...   \n",
              "4  Big 1-bedroom apartment that can accommodate 4...   \n",
              "\n",
              "                               neighborhood_overview  \\\n",
              "0  Ampelokipi district is nice multinational and ...   \n",
              "1  Ampelokipi district is nice multinational and ...   \n",
              "2  Ampelokipi district is nice multinational and ...   \n",
              "3  Ampelokipi district is nice multinational and ...   \n",
              "4                                                NaN   \n",
              "\n",
              "                                         picture_url  host_id  \\\n",
              "0  https://a0.muscache.com/pictures/f7e19a44-5afe...    37177   \n",
              "1  https://a0.muscache.com/pictures/8645179/c1728...    37177   \n",
              "2  https://a0.muscache.com/pictures/107309527/848...    37177   \n",
              "3  https://a0.muscache.com/pictures/6a565613-aaa3...    37177   \n",
              "4  https://a0.muscache.com/pictures/8651803/4b82b...    37177   \n",
              "\n",
              "                                  host_url  ... number_of_reviews_l30d  \\\n",
              "0  https://www.airbnb.com/users/show/37177  ...                      0   \n",
              "1  https://www.airbnb.com/users/show/37177  ...                      1   \n",
              "2  https://www.airbnb.com/users/show/37177  ...                      3   \n",
              "3  https://www.airbnb.com/users/show/37177  ...                      0   \n",
              "4  https://www.airbnb.com/users/show/37177  ...                      0   \n",
              "\n",
              "  first_review last_review      license instant_bookable  \\\n",
              "0   2015-05-25  2019-04-04  00000957568                t   \n",
              "1   2015-11-25  2016-02-22  00001070920                t   \n",
              "2   2015-10-18  2018-03-31  00000957080                t   \n",
              "3   2015-12-05  2016-08-06  00000957422                t   \n",
              "4   2015-11-12  2017-05-15  00000957579                t   \n",
              "\n",
              "  calculated_host_listings_count calculated_host_listings_count_entire_homes  \\\n",
              "0                              6                                           6   \n",
              "1                              6                                           6   \n",
              "2                              6                                           6   \n",
              "3                              6                                           6   \n",
              "4                              6                                           6   \n",
              "\n",
              "  calculated_host_listings_count_private_rooms  \\\n",
              "0                                            0   \n",
              "1                                            0   \n",
              "2                                            0   \n",
              "3                                            0   \n",
              "4                                            0   \n",
              "\n",
              "  calculated_host_listings_count_shared_rooms reviews_per_month  \n",
              "0                                           0              0.41  \n",
              "1                                           0              0.72  \n",
              "2                                           0              0.97  \n",
              "3                                           0              0.33  \n",
              "4                                           0              0.23  \n",
              "\n",
              "[5 rows x 67 columns]"
            ]
          },
          "execution_count": 3,
          "metadata": {},
          "output_type": "execute_result"
        }
      ],
      "source": [
        "df.head()"
      ]
    },
    {
      "cell_type": "markdown",
      "metadata": {
        "id": "1zmgIN9iSOvo"
      },
      "source": [
        "***1. How many samples and features does each file have?***"
      ]
    },
    {
      "cell_type": "code",
      "execution_count": null,
      "metadata": {
        "colab": {
          "base_uri": "https://localhost:8080/"
        },
        "id": "haYVD8-rSOvp",
        "outputId": "82acf646-c1a5-43ee-c093-297c6c7d86ec"
      },
      "outputs": [
        {
          "name": "stdout",
          "output_type": "stream",
          "text": [
            "The dataset has 9582 samples and 67 features.\n"
          ]
        }
      ],
      "source": [
        "print(f\"The dataset has {df.shape[0]} samples and {df.shape[1]} features.\")"
      ]
    },
    {
      "cell_type": "markdown",
      "metadata": {
        "id": "L-hebzq7SOvp"
      },
      "source": [
        "***2. What are the types of your features?***"
      ]
    },
    {
      "cell_type": "code",
      "execution_count": null,
      "metadata": {
        "colab": {
          "base_uri": "https://localhost:8080/"
        },
        "id": "vo9YddD8SOvq",
        "outputId": "f23731df-0445-4bab-c596-d26de6a34743"
      },
      "outputs": [
        {
          "data": {
            "text/plain": [
              "id                                                int64\n",
              "listing_url                                      object\n",
              "scrape_id                                         int64\n",
              "last_scraped                                     object\n",
              "name                                             object\n",
              "                                                 ...   \n",
              "calculated_host_listings_count                    int64\n",
              "calculated_host_listings_count_entire_homes       int64\n",
              "calculated_host_listings_count_private_rooms      int64\n",
              "calculated_host_listings_count_shared_rooms       int64\n",
              "reviews_per_month                               float64\n",
              "Length: 67, dtype: object"
            ]
          },
          "execution_count": 5,
          "metadata": {},
          "output_type": "execute_result"
        }
      ],
      "source": [
        "df.dtypes"
      ]
    },
    {
      "cell_type": "markdown",
      "metadata": {
        "id": "Rb5qHEEkSOvr"
      },
      "source": [
        "***3. Are there any missing values? If yes, how many and how many rows are affected?***"
      ]
    },
    {
      "cell_type": "code",
      "execution_count": null,
      "metadata": {
        "colab": {
          "base_uri": "https://localhost:8080/"
        },
        "id": "owpV4z7lSOvs",
        "outputId": "fc12c03e-7820-4fa3-dabf-42fa6dc41acf"
      },
      "outputs": [
        {
          "name": "stdout",
          "output_type": "stream",
          "text": [
            "The dataset has 56123 missing values. \n",
            "There are 9582 rows affected.\n"
          ]
        }
      ],
      "source": [
        "print(f\"The dataset has {df.isna().sum().sum()} missing values. \\nThere are {sum([True for idx,row in df.iterrows() if any(row.isna())])} rows affected.\")"
      ]
    },
    {
      "cell_type": "code",
      "execution_count": null,
      "metadata": {
        "colab": {
          "base_uri": "https://localhost:8080/"
        },
        "id": "2BKSpVpHSOvt",
        "outputId": "d37781f7-0d04-46f0-e4b8-02982407f258"
      },
      "outputs": [
        {
          "name": "stdout",
          "output_type": "stream",
          "text": [
            "There are 29 columns affected.\n"
          ]
        }
      ],
      "source": [
        "print(f\"There are {len(df.columns[df.isnull().any()].tolist())} columns affected.\")"
      ]
    },
    {
      "cell_type": "markdown",
      "metadata": {
        "id": "1sIKWjcHSOvu"
      },
      "source": [
        "***4. How many listings per neighborhood are there?***"
      ]
    },
    {
      "cell_type": "code",
      "execution_count": null,
      "metadata": {
        "colab": {
          "base_uri": "https://localhost:8080/",
          "height": 1000
        },
        "id": "LiiCbcW5SOvv",
        "outputId": "d2b6bce1-51aa-41d4-8569-0f15ec328e05"
      },
      "outputs": [
        {
          "data": {
            "text/html": [
              "\n",
              "  <div id=\"df-6e231f67-8051-4484-8a1d-23bf39819a0e\">\n",
              "    <div class=\"colab-df-container\">\n",
              "      <div>\n",
              "<style scoped>\n",
              "    .dataframe tbody tr th:only-of-type {\n",
              "        vertical-align: middle;\n",
              "    }\n",
              "\n",
              "    .dataframe tbody tr th {\n",
              "        vertical-align: top;\n",
              "    }\n",
              "\n",
              "    .dataframe thead th {\n",
              "        text-align: right;\n",
              "    }\n",
              "</style>\n",
              "<table border=\"1\" class=\"dataframe\">\n",
              "  <thead>\n",
              "    <tr style=\"text-align: right;\">\n",
              "      <th></th>\n",
              "      <th>count</th>\n",
              "    </tr>\n",
              "    <tr>\n",
              "      <th>neighbourhood_cleansed</th>\n",
              "      <th></th>\n",
              "    </tr>\n",
              "  </thead>\n",
              "  <tbody>\n",
              "    <tr>\n",
              "      <th>1Ο ΝΕΚΡΟΤΑΦΕΙΟ</th>\n",
              "      <td>33</td>\n",
              "    </tr>\n",
              "    <tr>\n",
              "      <th>ΑΓΙΟΣ ΕΛΕΥΘΕΡΙΟΣ</th>\n",
              "      <td>21</td>\n",
              "    </tr>\n",
              "    <tr>\n",
              "      <th>ΑΓΙΟΣ ΚΩΝΣΤΑΝΤΙΝΟΣ-ΠΛΑΤΕΙΑ ΒΑΘΗΣ</th>\n",
              "      <td>599</td>\n",
              "    </tr>\n",
              "    <tr>\n",
              "      <th>ΑΓΙΟΣ ΝΙΚΟΛΑΟΣ</th>\n",
              "      <td>70</td>\n",
              "    </tr>\n",
              "    <tr>\n",
              "      <th>ΑΚΑΔΗΜΙΑ ΠΛΑΤΩΝΟΣ</th>\n",
              "      <td>61</td>\n",
              "    </tr>\n",
              "    <tr>\n",
              "      <th>ΑΚΡΟΠΟΛΗ</th>\n",
              "      <td>319</td>\n",
              "    </tr>\n",
              "    <tr>\n",
              "      <th>ΑΜΠΕΛΟΚΗΠΟΙ</th>\n",
              "      <td>329</td>\n",
              "    </tr>\n",
              "    <tr>\n",
              "      <th>ΑΝΩ ΚΥΨΕΛΗ</th>\n",
              "      <td>71</td>\n",
              "    </tr>\n",
              "    <tr>\n",
              "      <th>ΑΝΩ ΠΑΤΗΣΙΑ</th>\n",
              "      <td>58</td>\n",
              "    </tr>\n",
              "    <tr>\n",
              "      <th>ΒΟΤΑΝΙΚΟΣ</th>\n",
              "      <td>62</td>\n",
              "    </tr>\n",
              "    <tr>\n",
              "      <th>ΓΚΑΖΙ</th>\n",
              "      <td>72</td>\n",
              "    </tr>\n",
              "    <tr>\n",
              "      <th>ΓΚΥΖΗ</th>\n",
              "      <td>88</td>\n",
              "    </tr>\n",
              "    <tr>\n",
              "      <th>ΓΟΥΒΑ</th>\n",
              "      <td>53</td>\n",
              "    </tr>\n",
              "    <tr>\n",
              "      <th>ΓΟΥΔΙ</th>\n",
              "      <td>162</td>\n",
              "    </tr>\n",
              "    <tr>\n",
              "      <th>ΕΛΛΗΝΟΡΩΣΩΝ</th>\n",
              "      <td>42</td>\n",
              "    </tr>\n",
              "    <tr>\n",
              "      <th>ΕΜΠΟΡΙΚΟ ΤΡΙΓΩΝΟ-ΠΛΑΚΑ</th>\n",
              "      <td>1866</td>\n",
              "    </tr>\n",
              "    <tr>\n",
              "      <th>ΖΑΠΠΕΙΟ</th>\n",
              "      <td>141</td>\n",
              "    </tr>\n",
              "    <tr>\n",
              "      <th>ΘΗΣΕΙΟ</th>\n",
              "      <td>294</td>\n",
              "    </tr>\n",
              "    <tr>\n",
              "      <th>ΙΛΙΣΙΑ</th>\n",
              "      <td>172</td>\n",
              "    </tr>\n",
              "    <tr>\n",
              "      <th>ΚΕΡΑΜΕΙΚΟΣ</th>\n",
              "      <td>244</td>\n",
              "    </tr>\n",
              "    <tr>\n",
              "      <th>ΚΟΛΟΚΥΝΘΟΥ</th>\n",
              "      <td>18</td>\n",
              "    </tr>\n",
              "    <tr>\n",
              "      <th>ΚΟΛΩΝΑΚΙ</th>\n",
              "      <td>330</td>\n",
              "    </tr>\n",
              "    <tr>\n",
              "      <th>ΚΟΛΩΝΟΣ</th>\n",
              "      <td>82</td>\n",
              "    </tr>\n",
              "    <tr>\n",
              "      <th>ΚΟΥΚΑΚΙ-ΜΑΚΡΥΓΙΑΝΝΗ</th>\n",
              "      <td>841</td>\n",
              "    </tr>\n",
              "    <tr>\n",
              "      <th>ΚΥΨΕΛΗ</th>\n",
              "      <td>201</td>\n",
              "    </tr>\n",
              "    <tr>\n",
              "      <th>ΛΥΚΑΒΗΤΤΟΣ</th>\n",
              "      <td>117</td>\n",
              "    </tr>\n",
              "    <tr>\n",
              "      <th>ΜΟΥΣΕΙΟ-ΕΞΑΡΧΕΙΑ-ΝΕΑΠΟΛΗ</th>\n",
              "      <td>699</td>\n",
              "    </tr>\n",
              "    <tr>\n",
              "      <th>ΝΕΑ ΚΥΨΕΛΗ</th>\n",
              "      <td>52</td>\n",
              "    </tr>\n",
              "    <tr>\n",
              "      <th>ΝΕΟΣ ΚΟΣΜΟΣ</th>\n",
              "      <td>713</td>\n",
              "    </tr>\n",
              "    <tr>\n",
              "      <th>ΝΙΡΒΑΝΑ</th>\n",
              "      <td>105</td>\n",
              "    </tr>\n",
              "    <tr>\n",
              "      <th>ΠΑΓΚΡΑΤΙ</th>\n",
              "      <td>383</td>\n",
              "    </tr>\n",
              "    <tr>\n",
              "      <th>ΠΑΤΗΣΙΑ</th>\n",
              "      <td>117</td>\n",
              "    </tr>\n",
              "    <tr>\n",
              "      <th>ΠΕΔΙΟ ΑΡΕΩΣ</th>\n",
              "      <td>78</td>\n",
              "    </tr>\n",
              "    <tr>\n",
              "      <th>ΠΕΝΤΑΓΩΝΟ</th>\n",
              "      <td>2</td>\n",
              "    </tr>\n",
              "    <tr>\n",
              "      <th>ΠΕΤΡΑΛΩΝΑ</th>\n",
              "      <td>214</td>\n",
              "    </tr>\n",
              "    <tr>\n",
              "      <th>ΠΛΑΤΕΙΑ ΑΜΕΡΙΚΗΣ</th>\n",
              "      <td>116</td>\n",
              "    </tr>\n",
              "    <tr>\n",
              "      <th>ΠΛΑΤΕΙΑ ΑΤΤΙΚΗΣ</th>\n",
              "      <td>381</td>\n",
              "    </tr>\n",
              "    <tr>\n",
              "      <th>ΠΟΛΥΓΩΝΟ</th>\n",
              "      <td>24</td>\n",
              "    </tr>\n",
              "    <tr>\n",
              "      <th>ΠΡΟΜΠΟΝΑ</th>\n",
              "      <td>9</td>\n",
              "    </tr>\n",
              "    <tr>\n",
              "      <th>ΡΗΓΙΛΛΗΣ</th>\n",
              "      <td>3</td>\n",
              "    </tr>\n",
              "    <tr>\n",
              "      <th>ΡΙΖΟΥΠΟΛΗ</th>\n",
              "      <td>10</td>\n",
              "    </tr>\n",
              "    <tr>\n",
              "      <th>ΣΕΠΟΛΙΑ</th>\n",
              "      <td>28</td>\n",
              "    </tr>\n",
              "    <tr>\n",
              "      <th>ΣΤΑΔΙΟ</th>\n",
              "      <td>223</td>\n",
              "    </tr>\n",
              "    <tr>\n",
              "      <th>ΣΤΑΘΜΟΣ ΛΑΡΙΣΗΣ</th>\n",
              "      <td>79</td>\n",
              "    </tr>\n",
              "  </tbody>\n",
              "</table>\n",
              "</div>\n",
              "      <button class=\"colab-df-convert\" onclick=\"convertToInteractive('df-6e231f67-8051-4484-8a1d-23bf39819a0e')\"\n",
              "              title=\"Convert this dataframe to an interactive table.\"\n",
              "              style=\"display:none;\">\n",
              "        \n",
              "  <svg xmlns=\"http://www.w3.org/2000/svg\" height=\"24px\"viewBox=\"0 0 24 24\"\n",
              "       width=\"24px\">\n",
              "    <path d=\"M0 0h24v24H0V0z\" fill=\"none\"/>\n",
              "    <path d=\"M18.56 5.44l.94 2.06.94-2.06 2.06-.94-2.06-.94-.94-2.06-.94 2.06-2.06.94zm-11 1L8.5 8.5l.94-2.06 2.06-.94-2.06-.94L8.5 2.5l-.94 2.06-2.06.94zm10 10l.94 2.06.94-2.06 2.06-.94-2.06-.94-.94-2.06-.94 2.06-2.06.94z\"/><path d=\"M17.41 7.96l-1.37-1.37c-.4-.4-.92-.59-1.43-.59-.52 0-1.04.2-1.43.59L10.3 9.45l-7.72 7.72c-.78.78-.78 2.05 0 2.83L4 21.41c.39.39.9.59 1.41.59.51 0 1.02-.2 1.41-.59l7.78-7.78 2.81-2.81c.8-.78.8-2.07 0-2.86zM5.41 20L4 18.59l7.72-7.72 1.47 1.35L5.41 20z\"/>\n",
              "  </svg>\n",
              "      </button>\n",
              "      \n",
              "  <style>\n",
              "    .colab-df-container {\n",
              "      display:flex;\n",
              "      flex-wrap:wrap;\n",
              "      gap: 12px;\n",
              "    }\n",
              "\n",
              "    .colab-df-convert {\n",
              "      background-color: #E8F0FE;\n",
              "      border: none;\n",
              "      border-radius: 50%;\n",
              "      cursor: pointer;\n",
              "      display: none;\n",
              "      fill: #1967D2;\n",
              "      height: 32px;\n",
              "      padding: 0 0 0 0;\n",
              "      width: 32px;\n",
              "    }\n",
              "\n",
              "    .colab-df-convert:hover {\n",
              "      background-color: #E2EBFA;\n",
              "      box-shadow: 0px 1px 2px rgba(60, 64, 67, 0.3), 0px 1px 3px 1px rgba(60, 64, 67, 0.15);\n",
              "      fill: #174EA6;\n",
              "    }\n",
              "\n",
              "    [theme=dark] .colab-df-convert {\n",
              "      background-color: #3B4455;\n",
              "      fill: #D2E3FC;\n",
              "    }\n",
              "\n",
              "    [theme=dark] .colab-df-convert:hover {\n",
              "      background-color: #434B5C;\n",
              "      box-shadow: 0px 1px 3px 1px rgba(0, 0, 0, 0.15);\n",
              "      filter: drop-shadow(0px 1px 2px rgba(0, 0, 0, 0.3));\n",
              "      fill: #FFFFFF;\n",
              "    }\n",
              "  </style>\n",
              "\n",
              "      <script>\n",
              "        const buttonEl =\n",
              "          document.querySelector('#df-6e231f67-8051-4484-8a1d-23bf39819a0e button.colab-df-convert');\n",
              "        buttonEl.style.display =\n",
              "          google.colab.kernel.accessAllowed ? 'block' : 'none';\n",
              "\n",
              "        async function convertToInteractive(key) {\n",
              "          const element = document.querySelector('#df-6e231f67-8051-4484-8a1d-23bf39819a0e');\n",
              "          const dataTable =\n",
              "            await google.colab.kernel.invokeFunction('convertToInteractive',\n",
              "                                                     [key], {});\n",
              "          if (!dataTable) return;\n",
              "\n",
              "          const docLinkHtml = 'Like what you see? Visit the ' +\n",
              "            '<a target=\"_blank\" href=https://colab.research.google.com/notebooks/data_table.ipynb>data table notebook</a>'\n",
              "            + ' to learn more about interactive tables.';\n",
              "          element.innerHTML = '';\n",
              "          dataTable['output_type'] = 'display_data';\n",
              "          await google.colab.output.renderOutput(dataTable, element);\n",
              "          const docLink = document.createElement('div');\n",
              "          docLink.innerHTML = docLinkHtml;\n",
              "          element.appendChild(docLink);\n",
              "        }\n",
              "      </script>\n",
              "    </div>\n",
              "  </div>\n",
              "  "
            ],
            "text/plain": [
              "                                  count\n",
              "neighbourhood_cleansed                 \n",
              "1Ο ΝΕΚΡΟΤΑΦΕΙΟ                       33\n",
              "ΑΓΙΟΣ ΕΛΕΥΘΕΡΙΟΣ                     21\n",
              "ΑΓΙΟΣ ΚΩΝΣΤΑΝΤΙΝΟΣ-ΠΛΑΤΕΙΑ ΒΑΘΗΣ    599\n",
              "ΑΓΙΟΣ ΝΙΚΟΛΑΟΣ                       70\n",
              "ΑΚΑΔΗΜΙΑ ΠΛΑΤΩΝΟΣ                    61\n",
              "ΑΚΡΟΠΟΛΗ                            319\n",
              "ΑΜΠΕΛΟΚΗΠΟΙ                         329\n",
              "ΑΝΩ ΚΥΨΕΛΗ                           71\n",
              "ΑΝΩ ΠΑΤΗΣΙΑ                          58\n",
              "ΒΟΤΑΝΙΚΟΣ                            62\n",
              "ΓΚΑΖΙ                                72\n",
              "ΓΚΥΖΗ                                88\n",
              "ΓΟΥΒΑ                                53\n",
              "ΓΟΥΔΙ                               162\n",
              "ΕΛΛΗΝΟΡΩΣΩΝ                          42\n",
              "ΕΜΠΟΡΙΚΟ ΤΡΙΓΩΝΟ-ΠΛΑΚΑ             1866\n",
              "ΖΑΠΠΕΙΟ                             141\n",
              "ΘΗΣΕΙΟ                              294\n",
              "ΙΛΙΣΙΑ                              172\n",
              "ΚΕΡΑΜΕΙΚΟΣ                          244\n",
              "ΚΟΛΟΚΥΝΘΟΥ                           18\n",
              "ΚΟΛΩΝΑΚΙ                            330\n",
              "ΚΟΛΩΝΟΣ                              82\n",
              "ΚΟΥΚΑΚΙ-ΜΑΚΡΥΓΙΑΝΝΗ                 841\n",
              "ΚΥΨΕΛΗ                              201\n",
              "ΛΥΚΑΒΗΤΤΟΣ                          117\n",
              "ΜΟΥΣΕΙΟ-ΕΞΑΡΧΕΙΑ-ΝΕΑΠΟΛΗ            699\n",
              "ΝΕΑ ΚΥΨΕΛΗ                           52\n",
              "ΝΕΟΣ ΚΟΣΜΟΣ                         713\n",
              "ΝΙΡΒΑΝΑ                             105\n",
              "ΠΑΓΚΡΑΤΙ                            383\n",
              "ΠΑΤΗΣΙΑ                             117\n",
              "ΠΕΔΙΟ ΑΡΕΩΣ                          78\n",
              "ΠΕΝΤΑΓΩΝΟ                             2\n",
              "ΠΕΤΡΑΛΩΝΑ                           214\n",
              "ΠΛΑΤΕΙΑ ΑΜΕΡΙΚΗΣ                    116\n",
              "ΠΛΑΤΕΙΑ ΑΤΤΙΚΗΣ                     381\n",
              "ΠΟΛΥΓΩΝΟ                             24\n",
              "ΠΡΟΜΠΟΝΑ                              9\n",
              "ΡΗΓΙΛΛΗΣ                              3\n",
              "ΡΙΖΟΥΠΟΛΗ                            10\n",
              "ΣΕΠΟΛΙΑ                              28\n",
              "ΣΤΑΔΙΟ                              223\n",
              "ΣΤΑΘΜΟΣ ΛΑΡΙΣΗΣ                      79"
            ]
          },
          "execution_count": 8,
          "metadata": {},
          "output_type": "execute_result"
        }
      ],
      "source": [
        "df.groupby([\"neighbourhood_cleansed\"])[\"id\"].agg([\"count\"])"
      ]
    },
    {
      "cell_type": "markdown",
      "metadata": {
        "id": "6vfr0MjYSOvv"
      },
      "source": [
        "***5.  How many listings per room type are there?***"
      ]
    },
    {
      "cell_type": "code",
      "execution_count": null,
      "metadata": {
        "colab": {
          "base_uri": "https://localhost:8080/",
          "height": 206
        },
        "id": "4ktmJuPySOvw",
        "outputId": "f6116a1e-7681-4956-f7c2-df2bcd84cfb5"
      },
      "outputs": [
        {
          "data": {
            "text/html": [
              "\n",
              "  <div id=\"df-d9866bd0-0ac6-4b43-b63d-25e1b62a2391\">\n",
              "    <div class=\"colab-df-container\">\n",
              "      <div>\n",
              "<style scoped>\n",
              "    .dataframe tbody tr th:only-of-type {\n",
              "        vertical-align: middle;\n",
              "    }\n",
              "\n",
              "    .dataframe tbody tr th {\n",
              "        vertical-align: top;\n",
              "    }\n",
              "\n",
              "    .dataframe thead th {\n",
              "        text-align: right;\n",
              "    }\n",
              "</style>\n",
              "<table border=\"1\" class=\"dataframe\">\n",
              "  <thead>\n",
              "    <tr style=\"text-align: right;\">\n",
              "      <th></th>\n",
              "      <th>count</th>\n",
              "    </tr>\n",
              "    <tr>\n",
              "      <th>room_type</th>\n",
              "      <th></th>\n",
              "    </tr>\n",
              "  </thead>\n",
              "  <tbody>\n",
              "    <tr>\n",
              "      <th>Entire home/apt</th>\n",
              "      <td>8463</td>\n",
              "    </tr>\n",
              "    <tr>\n",
              "      <th>Hotel room</th>\n",
              "      <td>138</td>\n",
              "    </tr>\n",
              "    <tr>\n",
              "      <th>Private room</th>\n",
              "      <td>891</td>\n",
              "    </tr>\n",
              "    <tr>\n",
              "      <th>Shared room</th>\n",
              "      <td>90</td>\n",
              "    </tr>\n",
              "  </tbody>\n",
              "</table>\n",
              "</div>\n",
              "      <button class=\"colab-df-convert\" onclick=\"convertToInteractive('df-d9866bd0-0ac6-4b43-b63d-25e1b62a2391')\"\n",
              "              title=\"Convert this dataframe to an interactive table.\"\n",
              "              style=\"display:none;\">\n",
              "        \n",
              "  <svg xmlns=\"http://www.w3.org/2000/svg\" height=\"24px\"viewBox=\"0 0 24 24\"\n",
              "       width=\"24px\">\n",
              "    <path d=\"M0 0h24v24H0V0z\" fill=\"none\"/>\n",
              "    <path d=\"M18.56 5.44l.94 2.06.94-2.06 2.06-.94-2.06-.94-.94-2.06-.94 2.06-2.06.94zm-11 1L8.5 8.5l.94-2.06 2.06-.94-2.06-.94L8.5 2.5l-.94 2.06-2.06.94zm10 10l.94 2.06.94-2.06 2.06-.94-2.06-.94-.94-2.06-.94 2.06-2.06.94z\"/><path d=\"M17.41 7.96l-1.37-1.37c-.4-.4-.92-.59-1.43-.59-.52 0-1.04.2-1.43.59L10.3 9.45l-7.72 7.72c-.78.78-.78 2.05 0 2.83L4 21.41c.39.39.9.59 1.41.59.51 0 1.02-.2 1.41-.59l7.78-7.78 2.81-2.81c.8-.78.8-2.07 0-2.86zM5.41 20L4 18.59l7.72-7.72 1.47 1.35L5.41 20z\"/>\n",
              "  </svg>\n",
              "      </button>\n",
              "      \n",
              "  <style>\n",
              "    .colab-df-container {\n",
              "      display:flex;\n",
              "      flex-wrap:wrap;\n",
              "      gap: 12px;\n",
              "    }\n",
              "\n",
              "    .colab-df-convert {\n",
              "      background-color: #E8F0FE;\n",
              "      border: none;\n",
              "      border-radius: 50%;\n",
              "      cursor: pointer;\n",
              "      display: none;\n",
              "      fill: #1967D2;\n",
              "      height: 32px;\n",
              "      padding: 0 0 0 0;\n",
              "      width: 32px;\n",
              "    }\n",
              "\n",
              "    .colab-df-convert:hover {\n",
              "      background-color: #E2EBFA;\n",
              "      box-shadow: 0px 1px 2px rgba(60, 64, 67, 0.3), 0px 1px 3px 1px rgba(60, 64, 67, 0.15);\n",
              "      fill: #174EA6;\n",
              "    }\n",
              "\n",
              "    [theme=dark] .colab-df-convert {\n",
              "      background-color: #3B4455;\n",
              "      fill: #D2E3FC;\n",
              "    }\n",
              "\n",
              "    [theme=dark] .colab-df-convert:hover {\n",
              "      background-color: #434B5C;\n",
              "      box-shadow: 0px 1px 3px 1px rgba(0, 0, 0, 0.15);\n",
              "      filter: drop-shadow(0px 1px 2px rgba(0, 0, 0, 0.3));\n",
              "      fill: #FFFFFF;\n",
              "    }\n",
              "  </style>\n",
              "\n",
              "      <script>\n",
              "        const buttonEl =\n",
              "          document.querySelector('#df-d9866bd0-0ac6-4b43-b63d-25e1b62a2391 button.colab-df-convert');\n",
              "        buttonEl.style.display =\n",
              "          google.colab.kernel.accessAllowed ? 'block' : 'none';\n",
              "\n",
              "        async function convertToInteractive(key) {\n",
              "          const element = document.querySelector('#df-d9866bd0-0ac6-4b43-b63d-25e1b62a2391');\n",
              "          const dataTable =\n",
              "            await google.colab.kernel.invokeFunction('convertToInteractive',\n",
              "                                                     [key], {});\n",
              "          if (!dataTable) return;\n",
              "\n",
              "          const docLinkHtml = 'Like what you see? Visit the ' +\n",
              "            '<a target=\"_blank\" href=https://colab.research.google.com/notebooks/data_table.ipynb>data table notebook</a>'\n",
              "            + ' to learn more about interactive tables.';\n",
              "          element.innerHTML = '';\n",
              "          dataTable['output_type'] = 'display_data';\n",
              "          await google.colab.output.renderOutput(dataTable, element);\n",
              "          const docLink = document.createElement('div');\n",
              "          docLink.innerHTML = docLinkHtml;\n",
              "          element.appendChild(docLink);\n",
              "        }\n",
              "      </script>\n",
              "    </div>\n",
              "  </div>\n",
              "  "
            ],
            "text/plain": [
              "                 count\n",
              "room_type             \n",
              "Entire home/apt   8463\n",
              "Hotel room         138\n",
              "Private room       891\n",
              "Shared room         90"
            ]
          },
          "execution_count": 9,
          "metadata": {},
          "output_type": "execute_result"
        }
      ],
      "source": [
        "df.groupby([\"room_type\"])[\"id\"].agg([\"count\"])"
      ]
    },
    {
      "cell_type": "markdown",
      "metadata": {
        "id": "xzzm-uFgSOvx"
      },
      "source": [
        "***6. How many listings per room number are there?***"
      ]
    },
    {
      "cell_type": "code",
      "execution_count": null,
      "metadata": {
        "colab": {
          "base_uri": "https://localhost:8080/",
          "height": 1000
        },
        "id": "Ptn3YGAASOvx",
        "outputId": "180c68fe-d0cc-4774-a385-5b2bee0d5c61"
      },
      "outputs": [
        {
          "data": {
            "text/html": [
              "\n",
              "  <div id=\"df-d59ddbf4-bc75-4c9b-b76d-96add83b8237\">\n",
              "    <div class=\"colab-df-container\">\n",
              "      <div>\n",
              "<style scoped>\n",
              "    .dataframe tbody tr th:only-of-type {\n",
              "        vertical-align: middle;\n",
              "    }\n",
              "\n",
              "    .dataframe tbody tr th {\n",
              "        vertical-align: top;\n",
              "    }\n",
              "\n",
              "    .dataframe thead th {\n",
              "        text-align: right;\n",
              "    }\n",
              "</style>\n",
              "<table border=\"1\" class=\"dataframe\">\n",
              "  <thead>\n",
              "    <tr style=\"text-align: right;\">\n",
              "      <th></th>\n",
              "      <th>count</th>\n",
              "    </tr>\n",
              "    <tr>\n",
              "      <th>rooms</th>\n",
              "      <th></th>\n",
              "    </tr>\n",
              "  </thead>\n",
              "  <tbody>\n",
              "    <tr>\n",
              "      <th>1.0</th>\n",
              "      <td>6</td>\n",
              "    </tr>\n",
              "    <tr>\n",
              "      <th>1.5</th>\n",
              "      <td>6</td>\n",
              "    </tr>\n",
              "    <tr>\n",
              "      <th>2.0</th>\n",
              "      <td>4866</td>\n",
              "    </tr>\n",
              "    <tr>\n",
              "      <th>2.5</th>\n",
              "      <td>440</td>\n",
              "    </tr>\n",
              "    <tr>\n",
              "      <th>3.0</th>\n",
              "      <td>1799</td>\n",
              "    </tr>\n",
              "    <tr>\n",
              "      <th>3.5</th>\n",
              "      <td>425</td>\n",
              "    </tr>\n",
              "    <tr>\n",
              "      <th>4.0</th>\n",
              "      <td>557</td>\n",
              "    </tr>\n",
              "    <tr>\n",
              "      <th>4.5</th>\n",
              "      <td>147</td>\n",
              "    </tr>\n",
              "    <tr>\n",
              "      <th>5.0</th>\n",
              "      <td>216</td>\n",
              "    </tr>\n",
              "    <tr>\n",
              "      <th>5.5</th>\n",
              "      <td>69</td>\n",
              "    </tr>\n",
              "    <tr>\n",
              "      <th>6.0</th>\n",
              "      <td>86</td>\n",
              "    </tr>\n",
              "    <tr>\n",
              "      <th>6.5</th>\n",
              "      <td>25</td>\n",
              "    </tr>\n",
              "    <tr>\n",
              "      <th>7.0</th>\n",
              "      <td>25</td>\n",
              "    </tr>\n",
              "    <tr>\n",
              "      <th>7.5</th>\n",
              "      <td>17</td>\n",
              "    </tr>\n",
              "    <tr>\n",
              "      <th>8.0</th>\n",
              "      <td>20</td>\n",
              "    </tr>\n",
              "    <tr>\n",
              "      <th>8.5</th>\n",
              "      <td>11</td>\n",
              "    </tr>\n",
              "    <tr>\n",
              "      <th>9.0</th>\n",
              "      <td>13</td>\n",
              "    </tr>\n",
              "    <tr>\n",
              "      <th>9.5</th>\n",
              "      <td>4</td>\n",
              "    </tr>\n",
              "    <tr>\n",
              "      <th>10.0</th>\n",
              "      <td>9</td>\n",
              "    </tr>\n",
              "    <tr>\n",
              "      <th>10.5</th>\n",
              "      <td>3</td>\n",
              "    </tr>\n",
              "    <tr>\n",
              "      <th>11.0</th>\n",
              "      <td>3</td>\n",
              "    </tr>\n",
              "    <tr>\n",
              "      <th>12.0</th>\n",
              "      <td>1</td>\n",
              "    </tr>\n",
              "    <tr>\n",
              "      <th>12.5</th>\n",
              "      <td>1</td>\n",
              "    </tr>\n",
              "    <tr>\n",
              "      <th>13.5</th>\n",
              "      <td>1</td>\n",
              "    </tr>\n",
              "    <tr>\n",
              "      <th>14.0</th>\n",
              "      <td>3</td>\n",
              "    </tr>\n",
              "    <tr>\n",
              "      <th>14.5</th>\n",
              "      <td>2</td>\n",
              "    </tr>\n",
              "    <tr>\n",
              "      <th>15.0</th>\n",
              "      <td>1</td>\n",
              "    </tr>\n",
              "    <tr>\n",
              "      <th>15.5</th>\n",
              "      <td>1</td>\n",
              "    </tr>\n",
              "    <tr>\n",
              "      <th>18.0</th>\n",
              "      <td>1</td>\n",
              "    </tr>\n",
              "    <tr>\n",
              "      <th>21.0</th>\n",
              "      <td>1</td>\n",
              "    </tr>\n",
              "  </tbody>\n",
              "</table>\n",
              "</div>\n",
              "      <button class=\"colab-df-convert\" onclick=\"convertToInteractive('df-d59ddbf4-bc75-4c9b-b76d-96add83b8237')\"\n",
              "              title=\"Convert this dataframe to an interactive table.\"\n",
              "              style=\"display:none;\">\n",
              "        \n",
              "  <svg xmlns=\"http://www.w3.org/2000/svg\" height=\"24px\"viewBox=\"0 0 24 24\"\n",
              "       width=\"24px\">\n",
              "    <path d=\"M0 0h24v24H0V0z\" fill=\"none\"/>\n",
              "    <path d=\"M18.56 5.44l.94 2.06.94-2.06 2.06-.94-2.06-.94-.94-2.06-.94 2.06-2.06.94zm-11 1L8.5 8.5l.94-2.06 2.06-.94-2.06-.94L8.5 2.5l-.94 2.06-2.06.94zm10 10l.94 2.06.94-2.06 2.06-.94-2.06-.94-.94-2.06-.94 2.06-2.06.94z\"/><path d=\"M17.41 7.96l-1.37-1.37c-.4-.4-.92-.59-1.43-.59-.52 0-1.04.2-1.43.59L10.3 9.45l-7.72 7.72c-.78.78-.78 2.05 0 2.83L4 21.41c.39.39.9.59 1.41.59.51 0 1.02-.2 1.41-.59l7.78-7.78 2.81-2.81c.8-.78.8-2.07 0-2.86zM5.41 20L4 18.59l7.72-7.72 1.47 1.35L5.41 20z\"/>\n",
              "  </svg>\n",
              "      </button>\n",
              "      \n",
              "  <style>\n",
              "    .colab-df-container {\n",
              "      display:flex;\n",
              "      flex-wrap:wrap;\n",
              "      gap: 12px;\n",
              "    }\n",
              "\n",
              "    .colab-df-convert {\n",
              "      background-color: #E8F0FE;\n",
              "      border: none;\n",
              "      border-radius: 50%;\n",
              "      cursor: pointer;\n",
              "      display: none;\n",
              "      fill: #1967D2;\n",
              "      height: 32px;\n",
              "      padding: 0 0 0 0;\n",
              "      width: 32px;\n",
              "    }\n",
              "\n",
              "    .colab-df-convert:hover {\n",
              "      background-color: #E2EBFA;\n",
              "      box-shadow: 0px 1px 2px rgba(60, 64, 67, 0.3), 0px 1px 3px 1px rgba(60, 64, 67, 0.15);\n",
              "      fill: #174EA6;\n",
              "    }\n",
              "\n",
              "    [theme=dark] .colab-df-convert {\n",
              "      background-color: #3B4455;\n",
              "      fill: #D2E3FC;\n",
              "    }\n",
              "\n",
              "    [theme=dark] .colab-df-convert:hover {\n",
              "      background-color: #434B5C;\n",
              "      box-shadow: 0px 1px 3px 1px rgba(0, 0, 0, 0.15);\n",
              "      filter: drop-shadow(0px 1px 2px rgba(0, 0, 0, 0.3));\n",
              "      fill: #FFFFFF;\n",
              "    }\n",
              "  </style>\n",
              "\n",
              "      <script>\n",
              "        const buttonEl =\n",
              "          document.querySelector('#df-d59ddbf4-bc75-4c9b-b76d-96add83b8237 button.colab-df-convert');\n",
              "        buttonEl.style.display =\n",
              "          google.colab.kernel.accessAllowed ? 'block' : 'none';\n",
              "\n",
              "        async function convertToInteractive(key) {\n",
              "          const element = document.querySelector('#df-d59ddbf4-bc75-4c9b-b76d-96add83b8237');\n",
              "          const dataTable =\n",
              "            await google.colab.kernel.invokeFunction('convertToInteractive',\n",
              "                                                     [key], {});\n",
              "          if (!dataTable) return;\n",
              "\n",
              "          const docLinkHtml = 'Like what you see? Visit the ' +\n",
              "            '<a target=\"_blank\" href=https://colab.research.google.com/notebooks/data_table.ipynb>data table notebook</a>'\n",
              "            + ' to learn more about interactive tables.';\n",
              "          element.innerHTML = '';\n",
              "          dataTable['output_type'] = 'display_data';\n",
              "          await google.colab.output.renderOutput(dataTable, element);\n",
              "          const docLink = document.createElement('div');\n",
              "          docLink.innerHTML = docLinkHtml;\n",
              "          element.appendChild(docLink);\n",
              "        }\n",
              "      </script>\n",
              "    </div>\n",
              "  </div>\n",
              "  "
            ],
            "text/plain": [
              "       count\n",
              "rooms       \n",
              "1.0        6\n",
              "1.5        6\n",
              "2.0     4866\n",
              "2.5      440\n",
              "3.0     1799\n",
              "3.5      425\n",
              "4.0      557\n",
              "4.5      147\n",
              "5.0      216\n",
              "5.5       69\n",
              "6.0       86\n",
              "6.5       25\n",
              "7.0       25\n",
              "7.5       17\n",
              "8.0       20\n",
              "8.5       11\n",
              "9.0       13\n",
              "9.5        4\n",
              "10.0       9\n",
              "10.5       3\n",
              "11.0       3\n",
              "12.0       1\n",
              "12.5       1\n",
              "13.5       1\n",
              "14.0       3\n",
              "14.5       2\n",
              "15.0       1\n",
              "15.5       1\n",
              "18.0       1\n",
              "21.0       1"
            ]
          },
          "execution_count": 108,
          "metadata": {},
          "output_type": "execute_result"
        }
      ],
      "source": [
        "# values - nan - replace with 0 \n",
        "\n",
        "df['bathrooms_text'] = df['bathrooms_text'].str.replace('Shared half-bath', '0.5')\n",
        "df['bathrooms_text'] = df['bathrooms_text'].str.replace('Half-bath', '0.5')\n",
        "\n",
        "df['_bathrooms'] = (df['bathrooms_text'].str.split(' ').str[0]).astype(float)\n",
        "\n",
        "df['rooms'] = df['_bathrooms'] + df['bedrooms']\n",
        "\n",
        "df.groupby(['rooms'])[\"id\"].agg([\"count\"])\n"
      ]
    },
    {
      "cell_type": "markdown",
      "metadata": {
        "id": "pKcaEJAQSOvy"
      },
      "source": [
        "***7.  What is the distribution of listings per host? What are the most listings that a single host has?***"
      ]
    },
    {
      "cell_type": "code",
      "execution_count": null,
      "metadata": {
        "colab": {
          "base_uri": "https://localhost:8080/",
          "height": 351
        },
        "id": "PGL71dLSFNbq",
        "outputId": "92dc3305-79e4-4041-e7bd-ee40cfa4add5"
      },
      "outputs": [
        {
          "name": "stderr",
          "output_type": "stream",
          "text": [
            "/usr/local/lib/python3.7/dist-packages/seaborn/_decorators.py:43: FutureWarning: Pass the following variable as a keyword arg: x. From version 0.12, the only valid positional argument will be `data`, and passing other arguments without an explicit keyword will result in an error or misinterpretation.\n",
            "  FutureWarning\n"
          ]
        },
        {
          "data": {
            "text/plain": [
              "<matplotlib.axes._subplots.AxesSubplot at 0x7f0d0cbcfe50>"
            ]
          },
          "execution_count": 11,
          "metadata": {},
          "output_type": "execute_result"
        },
        {
          "data": {
            "image/png": "[encoded data removed]",
            "text/plain": [
              "<Figure size 432x288 with 1 Axes>"
            ]
          },
          "metadata": {
            "needs_background": "light"
          },
          "output_type": "display_data"
        }
      ],
      "source": [
        "sns.boxplot(df.groupby([\"host_id\"])[\"id\"].count())"
      ]
    },
    {
      "cell_type": "code",
      "execution_count": null,
      "metadata": {
        "colab": {
          "base_uri": "https://localhost:8080/",
          "height": 351
        },
        "id": "_kU6RVuESOvz",
        "outputId": "a404eef5-91e3-42bb-bc46-29b97a55f598"
      },
      "outputs": [
        {
          "name": "stderr",
          "output_type": "stream",
          "text": [
            "/usr/local/lib/python3.7/dist-packages/seaborn/distributions.py:2619: FutureWarning: `distplot` is a deprecated function and will be removed in a future version. Please adapt your code to use either `displot` (a figure-level function with similar flexibility) or `histplot` (an axes-level function for histograms).\n",
            "  warnings.warn(msg, FutureWarning)\n"
          ]
        },
        {
          "data": {
            "text/plain": [
              "<matplotlib.axes._subplots.AxesSubplot at 0x7f0d0cb0d190>"
            ]
          },
          "execution_count": 12,
          "metadata": {},
          "output_type": "execute_result"
        },
        {
          "data": {
            "image/png": "[encoded data removed]",
            "text/plain": [
              "<Figure size 432x288 with 1 Axes>"
            ]
          },
          "metadata": {
            "needs_background": "light"
          },
          "output_type": "display_data"
        }
      ],
      "source": [
        "sns.distplot(df.groupby([\"host_id\"])[\"id\"].count())"
      ]
    },
    {
      "cell_type": "markdown",
      "metadata": {
        "id": "5rmEeRCnSOv0"
      },
      "source": [
        "***8.  When was the first host registered?***"
      ]
    },
    {
      "cell_type": "code",
      "execution_count": null,
      "metadata": {
        "colab": {
          "base_uri": "https://localhost:8080/"
        },
        "id": "UTOTj3Z9SOv0",
        "outputId": "edc2983f-69ab-4648-b89d-0081aa552263"
      },
      "outputs": [
        {
          "name": "stdout",
          "output_type": "stream",
          "text": [
            "The first host was registered at 2009-09-08.\n"
          ]
        }
      ],
      "source": [
        "df['dates'] = pd.to_datetime(df['host_since'],  format='%Y-%m-%d')\n",
        "\n",
        "print(f\"The first host was registered at {df['dates'].min().date()}.\")"
      ]
    },
    {
      "cell_type": "markdown",
      "metadata": {
        "id": "v9nXvuH-SOv1"
      },
      "source": [
        "***9.  What year had the most hosts registered?***"
      ]
    },
    {
      "cell_type": "code",
      "execution_count": null,
      "metadata": {
        "colab": {
          "base_uri": "https://localhost:8080/"
        },
        "id": "2Q5thqNfSOv1",
        "outputId": "8bf760bd-1651-4d65-9b5e-a391a63743d3"
      },
      "outputs": [
        {
          "name": "stdout",
          "output_type": "stream",
          "text": [
            "In 2015-03-24 the most hosts were registered. Number of hosts: 162.\n"
          ]
        }
      ],
      "source": [
        "year = df.groupby([\"host_since\"])[\"host_id\"].count().idxmax()\n",
        "count = df.groupby([\"host_since\"])[\"host_id\"].count().max()\n",
        "\n",
        "print(f\"In {year} the most hosts were registered. Number of hosts: {count}.\")"
      ]
    },
    {
      "cell_type": "markdown",
      "metadata": {
        "id": "R19Gd9OTSOv2"
      },
      "source": [
        "***10. How many identified hosts are there? What is their percentage over all hosts?***\n"
      ]
    },
    {
      "cell_type": "code",
      "execution_count": null,
      "metadata": {
        "colab": {
          "base_uri": "https://localhost:8080/"
        },
        "id": "nHg-TwTKSOv2",
        "outputId": "94a5a0dc-49e3-4abb-f8d8-bb32956b6d2a"
      },
      "outputs": [
        {
          "name": "stdout",
          "output_type": "stream",
          "text": [
            "There are 6928 identified hosts. \n",
            "Their percentage over all hosts is 144.33333333333334.\n"
          ]
        }
      ],
      "source": [
        "count_verified = np.sum(df[\"host_identity_verified\"] == 't')\n",
        "\n",
        "count_hosts = len(df[\"host_id\"].unique())\n",
        "\n",
        "percentage = count_verified / count_hosts * 100\n",
        "\n",
        "print(f'There are {count_verified} identified hosts. \\nTheir percentage over all hosts is {percentage}.')"
      ]
    },
    {
      "cell_type": "markdown",
      "metadata": {
        "id": "BbExKrnaSOv3"
      },
      "source": [
        "***11. What are the top-20 most common amenities provided by the hosts?***"
      ]
    },
    {
      "cell_type": "code",
      "execution_count": null,
      "metadata": {
        "colab": {
          "base_uri": "https://localhost:8080/"
        },
        "id": "2-57EN37SOv3",
        "outputId": "c89e52af-de23-4382-884e-f1da5a91c828"
      },
      "outputs": [
        {
          "name": "stdout",
          "output_type": "stream",
          "text": [
            "The top-20 most common amenities provided by the hosts are: Essentials,  Wifi,  Air conditioning,  Long term stays allowed,  Hangers,  Hair dryer,  Iron,  Shampoo, Kitchen,  Heating,  Hot water,  TV,  Dishes and silverware,  Cooking basics,  Refrigerator,  Coffee maker,  Dedicated workspace,  Bed linens,  Washer,  Elevator, "
          ]
        }
      ],
      "source": [
        "df[\"amenities\"] = df[\"amenities\"].str.replace('\\\"', \"\")\n",
        "df[\"amenities\"] = df[\"amenities\"].str.replace('[', \",\", regex=True)\n",
        "df[\"amenities\"] = df[\"amenities\"].str.replace(']', \"\", regex=True)\n",
        "\n",
        "top_20 = Counter(\"\".join(df[\"amenities\"]).split(\",\")).most_common(20)\n",
        "\n",
        "print(\"The top-20 most common amenities provided by the hosts are:\", end =\"\")\n",
        "\n",
        "for i in top_20:\n",
        "    print(i[0], end =\", \")\n"
      ]
    },
    {
      "cell_type": "markdown",
      "metadata": {
        "id": "Z1EWHlkISOv3"
      },
      "source": [
        "***12.  What is the distribution of price for each room type?***"
      ]
    },
    {
      "cell_type": "code",
      "execution_count": null,
      "metadata": {
        "colab": {
          "base_uri": "https://localhost:8080/"
        },
        "id": "bwMHSbjA2T7z",
        "outputId": "6fe2df48-18d7-41c5-cd46-7f440eda2678"
      },
      "outputs": [
        {
          "name": "stderr",
          "output_type": "stream",
          "text": [
            "/usr/local/lib/python3.7/dist-packages/ipykernel_launcher.py:1: FutureWarning: The default value of regex will change from True to False in a future version. In addition, single character regular expressions will *not* be treated as literal strings when regex=True.\n",
            "  \"\"\"Entry point for launching an IPython kernel.\n"
          ]
        }
      ],
      "source": [
        "df['price'] = df['price'].str.replace('$','')\n",
        "df['price'] = df['price'].str.replace(',','')\n",
        "df['price'] = pd.to_numeric(df['price'])"
      ]
    },
    {
      "cell_type": "markdown",
      "metadata": {
        "id": "-uf2UIxFJREU"
      },
      "source": [
        "*Entire home/apt*"
      ]
    },
    {
      "cell_type": "code",
      "execution_count": null,
      "metadata": {
        "colab": {
          "base_uri": "https://localhost:8080/",
          "height": 296
        },
        "id": "jWBlpL-YIYhQ",
        "outputId": "2351c755-f7a6-4503-b992-c6824082bf45"
      },
      "outputs": [
        {
          "data": {
            "text/plain": [
              "<matplotlib.axes._subplots.AxesSubplot at 0x7f0d055fed10>"
            ]
          },
          "execution_count": 105,
          "metadata": {},
          "output_type": "execute_result"
        },
        {
          "data": {
            "image/png": "[encoded data removed]",
            "text/plain": [
              "<Figure size 432x288 with 1 Axes>"
            ]
          },
          "metadata": {
            "needs_background": "light"
          },
          "output_type": "display_data"
        }
      ],
      "source": [
        "sns.boxplot(x = df[df.room_type == 'Entire home/apt']['price'])"
      ]
    },
    {
      "cell_type": "code",
      "execution_count": null,
      "metadata": {
        "colab": {
          "base_uri": "https://localhost:8080/",
          "height": 351
        },
        "id": "P6ak-KuwJXmF",
        "outputId": "887822e8-e7d1-4597-bb78-c6b0ea48fb53"
      },
      "outputs": [
        {
          "name": "stderr",
          "output_type": "stream",
          "text": [
            "/usr/local/lib/python3.7/dist-packages/seaborn/distributions.py:2619: FutureWarning: `distplot` is a deprecated function and will be removed in a future version. Please adapt your code to use either `displot` (a figure-level function with similar flexibility) or `histplot` (an axes-level function for histograms).\n",
            "  warnings.warn(msg, FutureWarning)\n"
          ]
        },
        {
          "data": {
            "text/plain": [
              "<matplotlib.axes._subplots.AxesSubplot at 0x7f0d0b686cd0>"
            ]
          },
          "execution_count": 23,
          "metadata": {},
          "output_type": "execute_result"
        },
        {
          "data": {
            "image/png": "[encoded data removed]",
            "text/plain": [
              "<Figure size 432x288 with 1 Axes>"
            ]
          },
          "metadata": {
            "needs_background": "light"
          },
          "output_type": "display_data"
        }
      ],
      "source": [
        "sns.distplot(df[df.room_type == 'Entire home/apt']['price'])"
      ]
    },
    {
      "cell_type": "markdown",
      "metadata": {
        "id": "CBgZ2SGcJouR"
      },
      "source": [
        "*Hotel room*"
      ]
    },
    {
      "cell_type": "code",
      "execution_count": null,
      "metadata": {
        "colab": {
          "base_uri": "https://localhost:8080/",
          "height": 296
        },
        "id": "Y1LWvdeTJtP3",
        "outputId": "dc7fb87b-218f-4f34-e510-a00382e8220a"
      },
      "outputs": [
        {
          "data": {
            "text/plain": [
              "<matplotlib.axes._subplots.AxesSubplot at 0x7f0d0b4b0c50>"
            ]
          },
          "execution_count": 24,
          "metadata": {},
          "output_type": "execute_result"
        },
        {
          "data": {
            "image/png": "[encoded data removed]",
            "text/plain": [
              "<Figure size 432x288 with 1 Axes>"
            ]
          },
          "metadata": {
            "needs_background": "light"
          },
          "output_type": "display_data"
        }
      ],
      "source": [
        "sns.boxplot(x = df[df.room_type == 'Hotel room']['price'])"
      ]
    },
    {
      "cell_type": "code",
      "execution_count": null,
      "metadata": {
        "colab": {
          "base_uri": "https://localhost:8080/",
          "height": 351
        },
        "id": "d7QzftY4KrL8",
        "outputId": "37eb122e-b094-4c37-9e5d-3ccfca68890a"
      },
      "outputs": [
        {
          "name": "stderr",
          "output_type": "stream",
          "text": [
            "/usr/local/lib/python3.7/dist-packages/seaborn/distributions.py:2619: FutureWarning: `distplot` is a deprecated function and will be removed in a future version. Please adapt your code to use either `displot` (a figure-level function with similar flexibility) or `histplot` (an axes-level function for histograms).\n",
            "  warnings.warn(msg, FutureWarning)\n"
          ]
        },
        {
          "data": {
            "text/plain": [
              "<matplotlib.axes._subplots.AxesSubplot at 0x7f0d0b5b4e10>"
            ]
          },
          "execution_count": 25,
          "metadata": {},
          "output_type": "execute_result"
        },
        {
          "data": {
            "image/png": "[encoded data removed]",
            "text/plain": [
              "<Figure size 432x288 with 1 Axes>"
            ]
          },
          "metadata": {
            "needs_background": "light"
          },
          "output_type": "display_data"
        }
      ],
      "source": [
        "sns.distplot(df[df.room_type == 'Hotel room']['price'])"
      ]
    },
    {
      "cell_type": "markdown",
      "metadata": {
        "id": "wSZSqKh7Ky-3"
      },
      "source": [
        "*Private Room*"
      ]
    },
    {
      "cell_type": "code",
      "execution_count": null,
      "metadata": {
        "colab": {
          "base_uri": "https://localhost:8080/",
          "height": 296
        },
        "id": "BVU6PKDKK1E7",
        "outputId": "e2f1a6ec-7ac9-4008-a322-079dbb3b7d4a"
      },
      "outputs": [
        {
          "data": {
            "text/plain": [
              "<matplotlib.axes._subplots.AxesSubplot at 0x7f0d0b27cf10>"
            ]
          },
          "execution_count": 26,
          "metadata": {},
          "output_type": "execute_result"
        },
        {
          "data": {
            "image/png": "[encoded data removed]",
            "text/plain": [
              "<Figure size 432x288 with 1 Axes>"
            ]
          },
          "metadata": {
            "needs_background": "light"
          },
          "output_type": "display_data"
        }
      ],
      "source": [
        "sns.boxplot(x = df[df.room_type == 'Private room']['price'])"
      ]
    },
    {
      "cell_type": "code",
      "execution_count": null,
      "metadata": {
        "colab": {
          "base_uri": "https://localhost:8080/",
          "height": 351
        },
        "id": "ERUtZWkVK-h4",
        "outputId": "5dd0a923-9116-4f19-ef4c-36fd5d59a28b"
      },
      "outputs": [
        {
          "name": "stderr",
          "output_type": "stream",
          "text": [
            "/usr/local/lib/python3.7/dist-packages/seaborn/distributions.py:2619: FutureWarning: `distplot` is a deprecated function and will be removed in a future version. Please adapt your code to use either `displot` (a figure-level function with similar flexibility) or `histplot` (an axes-level function for histograms).\n",
            "  warnings.warn(msg, FutureWarning)\n"
          ]
        },
        {
          "data": {
            "text/plain": [
              "<matplotlib.axes._subplots.AxesSubplot at 0x7f0d0b262990>"
            ]
          },
          "execution_count": 27,
          "metadata": {},
          "output_type": "execute_result"
        },
        {
          "data": {
            "image/png": "[encoded data removed]",
            "text/plain": [
              "<Figure size 432x288 with 1 Axes>"
            ]
          },
          "metadata": {
            "needs_background": "light"
          },
          "output_type": "display_data"
        }
      ],
      "source": [
        "sns.distplot(df[df.room_type == 'Private room']['price'])"
      ]
    },
    {
      "cell_type": "markdown",
      "metadata": {
        "id": "5ju4ezrdLHRL"
      },
      "source": [
        "*Shared Room*"
      ]
    },
    {
      "cell_type": "code",
      "execution_count": null,
      "metadata": {
        "colab": {
          "base_uri": "https://localhost:8080/",
          "height": 296
        },
        "id": "xMGnp8N-LNzQ",
        "outputId": "b7d76a55-2097-4812-c955-c0891311abad"
      },
      "outputs": [
        {
          "data": {
            "text/plain": [
              "<matplotlib.axes._subplots.AxesSubplot at 0x7f0d0b13d650>"
            ]
          },
          "execution_count": 28,
          "metadata": {},
          "output_type": "execute_result"
        },
        {
          "data": {
            "image/png": "[encoded data removed]",
            "text/plain": [
              "<Figure size 432x288 with 1 Axes>"
            ]
          },
          "metadata": {
            "needs_background": "light"
          },
          "output_type": "display_data"
        }
      ],
      "source": [
        "sns.boxplot(x = df[df.room_type == 'Shared room']['price'])"
      ]
    },
    {
      "cell_type": "code",
      "execution_count": null,
      "metadata": {
        "colab": {
          "base_uri": "https://localhost:8080/",
          "height": 351
        },
        "id": "c7a0Te0bLGsd",
        "outputId": "44b4004a-2425-47ea-d22d-94168fe89b19"
      },
      "outputs": [
        {
          "name": "stderr",
          "output_type": "stream",
          "text": [
            "/usr/local/lib/python3.7/dist-packages/seaborn/distributions.py:2619: FutureWarning: `distplot` is a deprecated function and will be removed in a future version. Please adapt your code to use either `displot` (a figure-level function with similar flexibility) or `histplot` (an axes-level function for histograms).\n",
            "  warnings.warn(msg, FutureWarning)\n"
          ]
        },
        {
          "data": {
            "text/plain": [
              "<matplotlib.axes._subplots.AxesSubplot at 0x7f0d0b44a750>"
            ]
          },
          "execution_count": 29,
          "metadata": {},
          "output_type": "execute_result"
        },
        {
          "data": {
            "image/png": "[encoded data removed]",
            "text/plain": [
              "<Figure size 432x288 with 1 Axes>"
            ]
          },
          "metadata": {
            "needs_background": "light"
          },
          "output_type": "display_data"
        }
      ],
      "source": [
        "sns.distplot(df[df.room_type == 'Shared room']['price'])"
      ]
    },
    {
      "cell_type": "markdown",
      "metadata": {
        "id": "pj5OEoa5SOv4"
      },
      "source": [
        "***13. How many ratings do I have?***"
      ]
    },
    {
      "cell_type": "code",
      "execution_count": null,
      "metadata": {
        "colab": {
          "base_uri": "https://localhost:8080/"
        },
        "id": "r2JshAswSOv5",
        "outputId": "91a4049e-fcaa-44b5-8398-fed6becdee1a"
      },
      "outputs": [
        {
          "name": "stdout",
          "output_type": "stream",
          "text": [
            "There are 406607 ratings in total.\n"
          ]
        }
      ],
      "source": [
        "df[\"number_of_reviews\"].sum()\n",
        "\n",
        "print(f'There are {df[\"number_of_reviews\"].sum()} ratings in total.')"
      ]
    },
    {
      "cell_type": "markdown",
      "metadata": {
        "id": "NQh6826BSOv5"
      },
      "source": [
        "***14. Do all listings have ratings?***"
      ]
    },
    {
      "cell_type": "code",
      "execution_count": null,
      "metadata": {
        "colab": {
          "base_uri": "https://localhost:8080/"
        },
        "id": "jTVGEuSySOv5",
        "outputId": "93dbc1e1-fded-44aa-d264-469686f4e31f"
      },
      "outputs": [
        {
          "name": "stdout",
          "output_type": "stream",
          "text": [
            "Yes, all listings have ratings.\n"
          ]
        }
      ],
      "source": [
        "if (df[\"number_of_reviews\"].isna().sum() == 0):\n",
        "    print(\"Yes, all listings have ratings.\")\n",
        "else:\n",
        "    print(\"No, not all listings have ratings.\")"
      ]
    },
    {
      "cell_type": "markdown",
      "metadata": {
        "id": "DFnLLpKySOv6"
      },
      "source": [
        "***15. Describe data.***"
      ]
    },
    {
      "cell_type": "code",
      "execution_count": null,
      "metadata": {
        "colab": {
          "base_uri": "https://localhost:8080/",
          "height": 394
        },
        "id": "kyp4HpvuSOv6",
        "outputId": "26a84c19-1fc0-4dfe-851a-f15d8ea39e92"
      },
      "outputs": [
        {
          "data": {
            "text/html": [
              "\n",
              "  <div id=\"df-79ba8929-486f-4481-884c-89f0b51d460c\">\n",
              "    <div class=\"colab-df-container\">\n",
              "      <div>\n",
              "<style scoped>\n",
              "    .dataframe tbody tr th:only-of-type {\n",
              "        vertical-align: middle;\n",
              "    }\n",
              "\n",
              "    .dataframe tbody tr th {\n",
              "        vertical-align: top;\n",
              "    }\n",
              "\n",
              "    .dataframe thead th {\n",
              "        text-align: right;\n",
              "    }\n",
              "</style>\n",
              "<table border=\"1\" class=\"dataframe\">\n",
              "  <thead>\n",
              "    <tr style=\"text-align: right;\">\n",
              "      <th></th>\n",
              "      <th>id</th>\n",
              "      <th>scrape_id</th>\n",
              "      <th>host_id</th>\n",
              "      <th>host_listings_count</th>\n",
              "      <th>host_total_listings_count</th>\n",
              "      <th>neighbourhood_group_cleansed</th>\n",
              "      <th>latitude</th>\n",
              "      <th>longitude</th>\n",
              "      <th>accommodates</th>\n",
              "      <th>bathrooms</th>\n",
              "      <th>...</th>\n",
              "      <th>number_of_reviews</th>\n",
              "      <th>number_of_reviews_ltm</th>\n",
              "      <th>number_of_reviews_l30d</th>\n",
              "      <th>calculated_host_listings_count</th>\n",
              "      <th>calculated_host_listings_count_entire_homes</th>\n",
              "      <th>calculated_host_listings_count_private_rooms</th>\n",
              "      <th>calculated_host_listings_count_shared_rooms</th>\n",
              "      <th>reviews_per_month</th>\n",
              "      <th>_bathrooms</th>\n",
              "      <th>rooms</th>\n",
              "    </tr>\n",
              "  </thead>\n",
              "  <tbody>\n",
              "    <tr>\n",
              "      <th>count</th>\n",
              "      <td>9.582000e+03</td>\n",
              "      <td>9.582000e+03</td>\n",
              "      <td>9.582000e+03</td>\n",
              "      <td>9579.000000</td>\n",
              "      <td>9579.000000</td>\n",
              "      <td>0.0</td>\n",
              "      <td>9582.000000</td>\n",
              "      <td>9582.000000</td>\n",
              "      <td>9582.000000</td>\n",
              "      <td>0.0</td>\n",
              "      <td>...</td>\n",
              "      <td>9582.000000</td>\n",
              "      <td>9582.000000</td>\n",
              "      <td>9582.00000</td>\n",
              "      <td>9582.000000</td>\n",
              "      <td>9582.000000</td>\n",
              "      <td>9582.000000</td>\n",
              "      <td>9582.000000</td>\n",
              "      <td>7874.000000</td>\n",
              "      <td>9572.000000</td>\n",
              "      <td>8759.000000</td>\n",
              "    </tr>\n",
              "    <tr>\n",
              "      <th>mean</th>\n",
              "      <td>3.189967e+07</td>\n",
              "      <td>2.021103e+13</td>\n",
              "      <td>1.437052e+08</td>\n",
              "      <td>17.809375</td>\n",
              "      <td>17.809375</td>\n",
              "      <td>NaN</td>\n",
              "      <td>37.979937</td>\n",
              "      <td>23.731852</td>\n",
              "      <td>3.829159</td>\n",
              "      <td>NaN</td>\n",
              "      <td>...</td>\n",
              "      <td>42.434460</td>\n",
              "      <td>8.671885</td>\n",
              "      <td>1.14068</td>\n",
              "      <td>11.083072</td>\n",
              "      <td>9.933312</td>\n",
              "      <td>0.920685</td>\n",
              "      <td>0.097683</td>\n",
              "      <td>1.860970</td>\n",
              "      <td>1.206018</td>\n",
              "      <td>2.717548</td>\n",
              "    </tr>\n",
              "    <tr>\n",
              "      <th>std</th>\n",
              "      <td>1.331709e+07</td>\n",
              "      <td>0.000000e+00</td>\n",
              "      <td>1.153289e+08</td>\n",
              "      <td>60.121461</td>\n",
              "      <td>60.121461</td>\n",
              "      <td>NaN</td>\n",
              "      <td>0.013226</td>\n",
              "      <td>0.012372</td>\n",
              "      <td>1.959972</td>\n",
              "      <td>NaN</td>\n",
              "      <td>...</td>\n",
              "      <td>69.982756</td>\n",
              "      <td>14.536008</td>\n",
              "      <td>1.92865</td>\n",
              "      <td>23.451291</td>\n",
              "      <td>23.081999</td>\n",
              "      <td>4.082871</td>\n",
              "      <td>1.015924</td>\n",
              "      <td>2.049245</td>\n",
              "      <td>0.514672</td>\n",
              "      <td>1.192684</td>\n",
              "    </tr>\n",
              "    <tr>\n",
              "      <th>min</th>\n",
              "      <td>1.059500e+04</td>\n",
              "      <td>2.021103e+13</td>\n",
              "      <td>3.717700e+04</td>\n",
              "      <td>0.000000</td>\n",
              "      <td>0.000000</td>\n",
              "      <td>NaN</td>\n",
              "      <td>37.950550</td>\n",
              "      <td>23.697700</td>\n",
              "      <td>1.000000</td>\n",
              "      <td>NaN</td>\n",
              "      <td>...</td>\n",
              "      <td>0.000000</td>\n",
              "      <td>0.000000</td>\n",
              "      <td>0.00000</td>\n",
              "      <td>1.000000</td>\n",
              "      <td>0.000000</td>\n",
              "      <td>0.000000</td>\n",
              "      <td>0.000000</td>\n",
              "      <td>0.010000</td>\n",
              "      <td>0.000000</td>\n",
              "      <td>1.000000</td>\n",
              "    </tr>\n",
              "    <tr>\n",
              "      <th>25%</th>\n",
              "      <td>2.251695e+07</td>\n",
              "      <td>2.021103e+13</td>\n",
              "      <td>3.849921e+07</td>\n",
              "      <td>1.000000</td>\n",
              "      <td>1.000000</td>\n",
              "      <td>NaN</td>\n",
              "      <td>37.969223</td>\n",
              "      <td>23.724032</td>\n",
              "      <td>2.000000</td>\n",
              "      <td>NaN</td>\n",
              "      <td>...</td>\n",
              "      <td>2.000000</td>\n",
              "      <td>0.000000</td>\n",
              "      <td>0.00000</td>\n",
              "      <td>1.000000</td>\n",
              "      <td>1.000000</td>\n",
              "      <td>0.000000</td>\n",
              "      <td>0.000000</td>\n",
              "      <td>0.430000</td>\n",
              "      <td>1.000000</td>\n",
              "      <td>2.000000</td>\n",
              "    </tr>\n",
              "    <tr>\n",
              "      <th>50%</th>\n",
              "      <td>3.278173e+07</td>\n",
              "      <td>2.021103e+13</td>\n",
              "      <td>1.288502e+08</td>\n",
              "      <td>3.000000</td>\n",
              "      <td>3.000000</td>\n",
              "      <td>NaN</td>\n",
              "      <td>37.978386</td>\n",
              "      <td>23.729830</td>\n",
              "      <td>4.000000</td>\n",
              "      <td>NaN</td>\n",
              "      <td>...</td>\n",
              "      <td>12.000000</td>\n",
              "      <td>2.000000</td>\n",
              "      <td>0.00000</td>\n",
              "      <td>3.000000</td>\n",
              "      <td>2.000000</td>\n",
              "      <td>0.000000</td>\n",
              "      <td>0.000000</td>\n",
              "      <td>1.200000</td>\n",
              "      <td>1.000000</td>\n",
              "      <td>2.000000</td>\n",
              "    </tr>\n",
              "    <tr>\n",
              "      <th>75%</th>\n",
              "      <td>4.264848e+07</td>\n",
              "      <td>2.021103e+13</td>\n",
              "      <td>2.244519e+08</td>\n",
              "      <td>11.000000</td>\n",
              "      <td>11.000000</td>\n",
              "      <td>NaN</td>\n",
              "      <td>37.987960</td>\n",
              "      <td>23.737930</td>\n",
              "      <td>4.000000</td>\n",
              "      <td>NaN</td>\n",
              "      <td>...</td>\n",
              "      <td>52.000000</td>\n",
              "      <td>12.000000</td>\n",
              "      <td>2.00000</td>\n",
              "      <td>9.000000</td>\n",
              "      <td>8.000000</td>\n",
              "      <td>0.000000</td>\n",
              "      <td>0.000000</td>\n",
              "      <td>2.640000</td>\n",
              "      <td>1.000000</td>\n",
              "      <td>3.000000</td>\n",
              "    </tr>\n",
              "    <tr>\n",
              "      <th>max</th>\n",
              "      <td>5.296030e+07</td>\n",
              "      <td>2.021103e+13</td>\n",
              "      <td>4.281993e+08</td>\n",
              "      <td>2095.000000</td>\n",
              "      <td>2095.000000</td>\n",
              "      <td>NaN</td>\n",
              "      <td>38.032430</td>\n",
              "      <td>23.780220</td>\n",
              "      <td>16.000000</td>\n",
              "      <td>NaN</td>\n",
              "      <td>...</td>\n",
              "      <td>745.000000</td>\n",
              "      <td>346.000000</td>\n",
              "      <td>20.00000</td>\n",
              "      <td>156.000000</td>\n",
              "      <td>156.000000</td>\n",
              "      <td>43.000000</td>\n",
              "      <td>14.000000</td>\n",
              "      <td>28.000000</td>\n",
              "      <td>12.000000</td>\n",
              "      <td>21.000000</td>\n",
              "    </tr>\n",
              "  </tbody>\n",
              "</table>\n",
              "<p>8 rows × 36 columns</p>\n",
              "</div>\n",
              "      <button class=\"colab-df-convert\" onclick=\"convertToInteractive('df-79ba8929-486f-4481-884c-89f0b51d460c')\"\n",
              "              title=\"Convert this dataframe to an interactive table.\"\n",
              "              style=\"display:none;\">\n",
              "        \n",
              "  <svg xmlns=\"http://www.w3.org/2000/svg\" height=\"24px\"viewBox=\"0 0 24 24\"\n",
              "       width=\"24px\">\n",
              "    <path d=\"M0 0h24v24H0V0z\" fill=\"none\"/>\n",
              "    <path d=\"M18.56 5.44l.94 2.06.94-2.06 2.06-.94-2.06-.94-.94-2.06-.94 2.06-2.06.94zm-11 1L8.5 8.5l.94-2.06 2.06-.94-2.06-.94L8.5 2.5l-.94 2.06-2.06.94zm10 10l.94 2.06.94-2.06 2.06-.94-2.06-.94-.94-2.06-.94 2.06-2.06.94z\"/><path d=\"M17.41 7.96l-1.37-1.37c-.4-.4-.92-.59-1.43-.59-.52 0-1.04.2-1.43.59L10.3 9.45l-7.72 7.72c-.78.78-.78 2.05 0 2.83L4 21.41c.39.39.9.59 1.41.59.51 0 1.02-.2 1.41-.59l7.78-7.78 2.81-2.81c.8-.78.8-2.07 0-2.86zM5.41 20L4 18.59l7.72-7.72 1.47 1.35L5.41 20z\"/>\n",
              "  </svg>\n",
              "      </button>\n",
              "      \n",
              "  <style>\n",
              "    .colab-df-container {\n",
              "      display:flex;\n",
              "      flex-wrap:wrap;\n",
              "      gap: 12px;\n",
              "    }\n",
              "\n",
              "    .colab-df-convert {\n",
              "      background-color: #E8F0FE;\n",
              "      border: none;\n",
              "      border-radius: 50%;\n",
              "      cursor: pointer;\n",
              "      display: none;\n",
              "      fill: #1967D2;\n",
              "      height: 32px;\n",
              "      padding: 0 0 0 0;\n",
              "      width: 32px;\n",
              "    }\n",
              "\n",
              "    .colab-df-convert:hover {\n",
              "      background-color: #E2EBFA;\n",
              "      box-shadow: 0px 1px 2px rgba(60, 64, 67, 0.3), 0px 1px 3px 1px rgba(60, 64, 67, 0.15);\n",
              "      fill: #174EA6;\n",
              "    }\n",
              "\n",
              "    [theme=dark] .colab-df-convert {\n",
              "      background-color: #3B4455;\n",
              "      fill: #D2E3FC;\n",
              "    }\n",
              "\n",
              "    [theme=dark] .colab-df-convert:hover {\n",
              "      background-color: #434B5C;\n",
              "      box-shadow: 0px 1px 3px 1px rgba(0, 0, 0, 0.15);\n",
              "      filter: drop-shadow(0px 1px 2px rgba(0, 0, 0, 0.3));\n",
              "      fill: #FFFFFF;\n",
              "    }\n",
              "  </style>\n",
              "\n",
              "      <script>\n",
              "        const buttonEl =\n",
              "          document.querySelector('#df-79ba8929-486f-4481-884c-89f0b51d460c button.colab-df-convert');\n",
              "        buttonEl.style.display =\n",
              "          google.colab.kernel.accessAllowed ? 'block' : 'none';\n",
              "\n",
              "        async function convertToInteractive(key) {\n",
              "          const element = document.querySelector('#df-79ba8929-486f-4481-884c-89f0b51d460c');\n",
              "          const dataTable =\n",
              "            await google.colab.kernel.invokeFunction('convertToInteractive',\n",
              "                                                     [key], {});\n",
              "          if (!dataTable) return;\n",
              "\n",
              "          const docLinkHtml = 'Like what you see? Visit the ' +\n",
              "            '<a target=\"_blank\" href=https://colab.research.google.com/notebooks/data_table.ipynb>data table notebook</a>'\n",
              "            + ' to learn more about interactive tables.';\n",
              "          element.innerHTML = '';\n",
              "          dataTable['output_type'] = 'display_data';\n",
              "          await google.colab.output.renderOutput(dataTable, element);\n",
              "          const docLink = document.createElement('div');\n",
              "          docLink.innerHTML = docLinkHtml;\n",
              "          element.appendChild(docLink);\n",
              "        }\n",
              "      </script>\n",
              "    </div>\n",
              "  </div>\n",
              "  "
            ],
            "text/plain": [
              "                 id     scrape_id       host_id  host_listings_count  \\\n",
              "count  9.582000e+03  9.582000e+03  9.582000e+03          9579.000000   \n",
              "mean   3.189967e+07  2.021103e+13  1.437052e+08            17.809375   \n",
              "std    1.331709e+07  0.000000e+00  1.153289e+08            60.121461   \n",
              "min    1.059500e+04  2.021103e+13  3.717700e+04             0.000000   \n",
              "25%    2.251695e+07  2.021103e+13  3.849921e+07             1.000000   \n",
              "50%    3.278173e+07  2.021103e+13  1.288502e+08             3.000000   \n",
              "75%    4.264848e+07  2.021103e+13  2.244519e+08            11.000000   \n",
              "max    5.296030e+07  2.021103e+13  4.281993e+08          2095.000000   \n",
              "\n",
              "       host_total_listings_count  neighbourhood_group_cleansed     latitude  \\\n",
              "count                9579.000000                           0.0  9582.000000   \n",
              "mean                   17.809375                           NaN    37.979937   \n",
              "std                    60.121461                           NaN     0.013226   \n",
              "min                     0.000000                           NaN    37.950550   \n",
              "25%                     1.000000                           NaN    37.969223   \n",
              "50%                     3.000000                           NaN    37.978386   \n",
              "75%                    11.000000                           NaN    37.987960   \n",
              "max                  2095.000000                           NaN    38.032430   \n",
              "\n",
              "         longitude  accommodates  bathrooms  ...  number_of_reviews  \\\n",
              "count  9582.000000   9582.000000        0.0  ...        9582.000000   \n",
              "mean     23.731852      3.829159        NaN  ...          42.434460   \n",
              "std       0.012372      1.959972        NaN  ...          69.982756   \n",
              "min      23.697700      1.000000        NaN  ...           0.000000   \n",
              "25%      23.724032      2.000000        NaN  ...           2.000000   \n",
              "50%      23.729830      4.000000        NaN  ...          12.000000   \n",
              "75%      23.737930      4.000000        NaN  ...          52.000000   \n",
              "max      23.780220     16.000000        NaN  ...         745.000000   \n",
              "\n",
              "       number_of_reviews_ltm  number_of_reviews_l30d  \\\n",
              "count            9582.000000              9582.00000   \n",
              "mean                8.671885                 1.14068   \n",
              "std                14.536008                 1.92865   \n",
              "min                 0.000000                 0.00000   \n",
              "25%                 0.000000                 0.00000   \n",
              "50%                 2.000000                 0.00000   \n",
              "75%                12.000000                 2.00000   \n",
              "max               346.000000                20.00000   \n",
              "\n",
              "       calculated_host_listings_count  \\\n",
              "count                     9582.000000   \n",
              "mean                        11.083072   \n",
              "std                         23.451291   \n",
              "min                          1.000000   \n",
              "25%                          1.000000   \n",
              "50%                          3.000000   \n",
              "75%                          9.000000   \n",
              "max                        156.000000   \n",
              "\n",
              "       calculated_host_listings_count_entire_homes  \\\n",
              "count                                  9582.000000   \n",
              "mean                                      9.933312   \n",
              "std                                      23.081999   \n",
              "min                                       0.000000   \n",
              "25%                                       1.000000   \n",
              "50%                                       2.000000   \n",
              "75%                                       8.000000   \n",
              "max                                     156.000000   \n",
              "\n",
              "       calculated_host_listings_count_private_rooms  \\\n",
              "count                                   9582.000000   \n",
              "mean                                       0.920685   \n",
              "std                                        4.082871   \n",
              "min                                        0.000000   \n",
              "25%                                        0.000000   \n",
              "50%                                        0.000000   \n",
              "75%                                        0.000000   \n",
              "max                                       43.000000   \n",
              "\n",
              "       calculated_host_listings_count_shared_rooms  reviews_per_month  \\\n",
              "count                                  9582.000000        7874.000000   \n",
              "mean                                      0.097683           1.860970   \n",
              "std                                       1.015924           2.049245   \n",
              "min                                       0.000000           0.010000   \n",
              "25%                                       0.000000           0.430000   \n",
              "50%                                       0.000000           1.200000   \n",
              "75%                                       0.000000           2.640000   \n",
              "max                                      14.000000          28.000000   \n",
              "\n",
              "        _bathrooms        rooms  \n",
              "count  9572.000000  8759.000000  \n",
              "mean      1.206018     2.717548  \n",
              "std       0.514672     1.192684  \n",
              "min       0.000000     1.000000  \n",
              "25%       1.000000     2.000000  \n",
              "50%       1.000000     2.000000  \n",
              "75%       1.000000     3.000000  \n",
              "max      12.000000    21.000000  \n",
              "\n",
              "[8 rows x 36 columns]"
            ]
          },
          "execution_count": 32,
          "metadata": {},
          "output_type": "execute_result"
        }
      ],
      "source": [
        "df.describe()"
      ]
    },
    {
      "cell_type": "markdown",
      "metadata": {
        "id": "ptk7Ac89SOwB"
      },
      "source": [
        "***16. Useful plots.***"
      ]
    },
    {
      "cell_type": "code",
      "execution_count": null,
      "metadata": {
        "colab": {
          "base_uri": "https://localhost:8080/",
          "height": 343
        },
        "id": "xcSIAnYYSOwC",
        "outputId": "9b6e0ae7-7708-43e8-d1f2-469862dadd63"
      },
      "outputs": [
        {
          "data": {
            "text/plain": [
              "<function seaborn.utils.despine(fig=None, ax=None, top=True, right=True, left=False, bottom=False, offset=None, trim=False)>"
            ]
          },
          "execution_count": 33,
          "metadata": {},
          "output_type": "execute_result"
        },
        {
          "data": {
            "image/png": "[encoded data removed]",
            "text/plain": [
              "<Figure size 432x288 with 1 Axes>"
            ]
          },
          "metadata": {
            "needs_background": "light"
          },
          "output_type": "display_data"
        }
      ],
      "source": [
        "df[\"bedrooms\"].value_counts().plot(kind=\"bar\")\n",
        "plt.title(\"Number of bedrooms\")\n",
        "plt.xlabel(\"Bedrooms\")\n",
        "plt.ylabel(\"Count\")\n",
        "sns.despine"
      ]
    },
    {
      "cell_type": "code",
      "execution_count": null,
      "metadata": {
        "colab": {
          "base_uri": "https://localhost:8080/",
          "height": 343
        },
        "id": "7Q1rHwqxSOwC",
        "outputId": "2084f60e-2ae3-48d8-a327-1e1d70d23b47"
      },
      "outputs": [
        {
          "data": {
            "text/plain": [
              "<function seaborn.utils.despine(fig=None, ax=None, top=True, right=True, left=False, bottom=False, offset=None, trim=False)>"
            ]
          },
          "execution_count": 34,
          "metadata": {},
          "output_type": "execute_result"
        },
        {
          "data": {
            "image/png": "[encoded data removed]",
            "text/plain": [
              "<Figure size 432x288 with 1 Axes>"
            ]
          },
          "metadata": {
            "needs_background": "light"
          },
          "output_type": "display_data"
        }
      ],
      "source": [
        "df[\"rooms\"].value_counts().plot(kind=\"bar\")\n",
        "plt.title(\"Number of rooms\")\n",
        "plt.xlabel(\"Rooms\")\n",
        "plt.ylabel(\"Count\")\n",
        "sns.despine"
      ]
    },
    {
      "cell_type": "markdown",
      "metadata": {
        "id": "YMBY_DL0XWlI"
      },
      "source": [
        "***17. Identify how the variables correlate with one another.***"
      ]
    },
    {
      "cell_type": "code",
      "execution_count": null,
      "metadata": {
        "colab": {
          "base_uri": "https://localhost:8080/",
          "height": 499
        },
        "id": "KAqS26FIMGhs",
        "outputId": "e63c9121-4289-44a8-b3cb-a9dfa24074ca"
      },
      "outputs": [
        {
          "data": {
            "image/png": "[encoded data removed]",
            "text/plain": [
              "<Figure size 576x576 with 2 Axes>"
            ]
          },
          "metadata": {
            "needs_background": "light"
          },
          "output_type": "display_data"
        }
      ],
      "source": [
        "cor_df = df.drop([\"id\", \"listing_url\", \"scrape_id\", \"last_scraped\", \"name\", \"description\", \"neighborhood_overview\", \"picture_url\", \"host_id\", \"host_url\", \"neighbourhood_group_cleansed\", \"bathrooms\", \"calendar_updated\"], axis=1)\n",
        "cor = cor_df.corr()\n",
        "plt.figure(figsize=(8,8))\n",
        "sns.heatmap(cor_df.corr()[['price']].sort_values(by='price', ascending=False), annot=False, square=True, cmap=\"BrBG\", vmin=-1, vmax=1).set_title('Features Correlating with Price')\n",
        "plt.show()"
      ]
    },
    {
      "cell_type": "markdown",
      "metadata": {
        "id": "U3RH-qTm5ms6"
      },
      "source": [
        "***18. Room type pie chart.***"
      ]
    },
    {
      "cell_type": "code",
      "execution_count": null,
      "metadata": {
        "colab": {
          "base_uri": "https://localhost:8080/",
          "height": 357
        },
        "id": "1YU3PPJ75mLc",
        "outputId": "a4ff75ca-67a9-4f5b-9e16-51079659c7cf"
      },
      "outputs": [
        {
          "data": {
            "image/png": "[encoded data removed]",
            "text/plain": [
              "<Figure size 792x432 with 1 Axes>"
            ]
          },
          "metadata": {},
          "output_type": "display_data"
        }
      ],
      "source": [
        "df.room_type.replace({'Entire home/apt': 'Home or apt', 'Private room': 'Private room', 'Hotel room': 'Hotel room', 'Shared room': 'Shared room'}, inplace=True)\n",
        "room_type = (df.room_type.value_counts()).to_frame()\n",
        "plot = room_type.plot.pie(subplots=True, figsize=(11, 6), autopct='%.0f%%')"
      ]
    },
    {
      "cell_type": "markdown",
      "metadata": {
        "id": "V9d76zle9bNs"
      },
      "source": [
        "***19. Bar plot for TOP-10 neighbourhoods.***"
      ]
    },
    {
      "cell_type": "code",
      "execution_count": null,
      "metadata": {
        "colab": {
          "base_uri": "https://localhost:8080/",
          "height": 281
        },
        "id": "xw8OiIAJ9iHz",
        "outputId": "465f8fe7-1108-4ecc-8026-f3118df4097a"
      },
      "outputs": [
        {
          "data": {
            "image/png": "[encoded data removed]",
            "text/plain": [
              "<Figure size 432x288 with 1 Axes>"
            ]
          },
          "metadata": {
            "needs_background": "light"
          },
          "output_type": "display_data"
        }
      ],
      "source": [
        "neighbourhoods = df.neighbourhood_cleansed.value_counts()\n",
        "neighbourhoods = neighbourhoods.to_frame()\n",
        "neighbourhoods.reset_index(inplace=True)\n",
        "neighbourhoods.rename(columns = {'index':'neighbourhood', 'neighbourhood_cleansed':'total_count'}, inplace = True)\n",
        "neighbourhoods.sort_values(by=['total_count'], ascending=True)\n",
        "neighbourhoods = neighbourhoods.iloc[0:9,]\n",
        "plt.barh(neighbourhoods.neighbourhood,neighbourhoods.total_count,color='orange')\n",
        "plt.title(\"TOP-10 NEIGHBOURHOODS\")\n",
        "plt.show()"
      ]
    },
    {
      "cell_type": "markdown",
      "metadata": {
        "id": "QiNVJkaZCux4"
      },
      "source": [
        "***20. Bar plot for bedrooms.***"
      ]
    },
    {
      "cell_type": "code",
      "execution_count": null,
      "metadata": {
        "colab": {
          "base_uri": "https://localhost:8080/",
          "height": 281
        },
        "id": "Ct1HylrEEzPX",
        "outputId": "b7713456-0426-4b4a-8cb3-a3c1dc469acd"
      },
      "outputs": [
        {
          "data": {
            "image/png": "[encoded data removed]",
            "text/plain": [
              "<Figure size 432x288 with 1 Axes>"
            ]
          },
          "metadata": {
            "needs_background": "light"
          },
          "output_type": "display_data"
        }
      ],
      "source": [
        "bedrooms = df.bedrooms.value_counts()\n",
        "bedrooms = bedrooms.to_frame()\n",
        "bedrooms.reset_index(inplace=True)\n",
        "bedrooms.rename(columns = {'index':'Number of bedrooms', 'bedrooms':'Total count'}, inplace = True)\n",
        "plt.bar(bedrooms['Number of bedrooms'],bedrooms['Total count'],color='brown')\n",
        "plt.title(\"BEDROOMS\")\n",
        "plt.show()"
      ]
    },
    {
      "cell_type": "markdown",
      "metadata": {
        "id": "wcOrTmJWO7fA"
      },
      "source": [
        "***21. Total count of TOP-20 amenities.***"
      ]
    },
    {
      "cell_type": "code",
      "execution_count": null,
      "metadata": {
        "id": "gWRZyf3ANXOi"
      },
      "outputs": [],
      "source": [
        "df[\"amenities\"] = df[\"amenities\"].str.replace('\\\"', \"\")\n",
        "df[\"amenities\"] = df[\"amenities\"].str.replace('[', \",\", regex=True)\n",
        "df[\"amenities\"] = df[\"amenities\"].str.replace(']', \"\", regex=True)\n",
        "\n",
        "top_20 = collections.Counter(\"\".join(df[\"amenities\"]).split(\",\")).most_common(20)\n",
        "\n",
        "for x in top_20:\n",
        "    df.loc[df['amenities'].str.contains(x[0]), x[0]] = int(1)\n",
        "\n",
        "    df[x[0]] = df[x[0]].fillna(0)\n",
        "\n",
        "df.drop('amenities', axis=1, inplace=True)\n",
        "\n",
        "df.columns\n",
        "\n",
        "# Sum of TOP-20 amenities in every row.\n",
        "df['amenities']=df[' Essentials']+df[' Wifi']+df[' Air conditioning']+df[' Long term stays allowed']+df[' Hangers']+df[' Hair dryer']+df[' Iron']+df[' Shampoo']+df['Kitchen']+df[' Heating']+df[' Hot water']+df[' Dishes and silverware']+df[' TV']+df[' Cooking basics']+df[' Refrigerator']+df[' Coffee maker']+df[' Dedicated workspace']+df[' Bed linens']+df[' Washer']+df[' Elevator']\n",
        "\n",
        "df = df.drop([' Essentials', ' Wifi', ' Air conditioning', ' Long term stays allowed',\n",
        "       ' Hangers', ' Hair dryer', ' Iron', ' Shampoo', 'Kitchen', ' Heating',\n",
        "       ' Hot water', ' Dishes and silverware', ' TV', ' Cooking basics',\n",
        "       ' Refrigerator', ' Coffee maker', ' Dedicated workspace', ' Bed linens',\n",
        "       ' Washer', ' Elevator'], axis=1)"
      ]
    },
    {
      "cell_type": "code",
      "execution_count": null,
      "metadata": {
        "colab": {
          "base_uri": "https://localhost:8080/",
          "height": 281
        },
        "id": "gDYfaHThN4WK",
        "outputId": "6aa20131-0331-4a56-d7bf-e27cbdd46016"
      },
      "outputs": [
        {
          "data": {
            "image/png": "[encoded data removed]",
            "text/plain": [
              "<Figure size 432x288 with 1 Axes>"
            ]
          },
          "metadata": {
            "needs_background": "light"
          },
          "output_type": "display_data"
        }
      ],
      "source": [
        "amenities = df.amenities.value_counts()\n",
        "amenities = amenities.to_frame()\n",
        "amenities.reset_index(inplace=True)\n",
        "amenities\n",
        "amenities.rename(columns = {'index':'Number of amenities', 'amenities':'Total count'}, inplace = True)\n",
        "plt.bar(amenities['Number of amenities'], amenities['Total count'], color='brown')\n",
        "plt.title(\"TOP-20 AMENITIES\")\n",
        "plt.show()"
      ]
    },
    {
      "cell_type": "code",
      "execution_count": null,
      "metadata": {
        "colab": {
          "base_uri": "https://localhost:8080/",
          "height": 708
        },
        "id": "O8V8mvYhFGoM",
        "outputId": "59058d25-99b6-4fd2-f844-ddda4d44e374"
      },
      "outputs": [
        {
          "data": {
            "text/html": [
              "\n",
              "  <div id=\"df-ff190324-dad3-4bf7-944b-ed486db957b9\">\n",
              "    <div class=\"colab-df-container\">\n",
              "      <div>\n",
              "<style scoped>\n",
              "    .dataframe tbody tr th:only-of-type {\n",
              "        vertical-align: middle;\n",
              "    }\n",
              "\n",
              "    .dataframe tbody tr th {\n",
              "        vertical-align: top;\n",
              "    }\n",
              "\n",
              "    .dataframe thead th {\n",
              "        text-align: right;\n",
              "    }\n",
              "</style>\n",
              "<table border=\"1\" class=\"dataframe\">\n",
              "  <thead>\n",
              "    <tr style=\"text-align: right;\">\n",
              "      <th></th>\n",
              "      <th>Number of amenities</th>\n",
              "      <th>Total count</th>\n",
              "    </tr>\n",
              "  </thead>\n",
              "  <tbody>\n",
              "    <tr>\n",
              "      <th>0</th>\n",
              "      <td>19.0</td>\n",
              "      <td>1634</td>\n",
              "    </tr>\n",
              "    <tr>\n",
              "      <th>1</th>\n",
              "      <td>18.0</td>\n",
              "      <td>1339</td>\n",
              "    </tr>\n",
              "    <tr>\n",
              "      <th>2</th>\n",
              "      <td>17.0</td>\n",
              "      <td>1085</td>\n",
              "    </tr>\n",
              "    <tr>\n",
              "      <th>3</th>\n",
              "      <td>20.0</td>\n",
              "      <td>929</td>\n",
              "    </tr>\n",
              "    <tr>\n",
              "      <th>4</th>\n",
              "      <td>16.0</td>\n",
              "      <td>845</td>\n",
              "    </tr>\n",
              "    <tr>\n",
              "      <th>5</th>\n",
              "      <td>15.0</td>\n",
              "      <td>743</td>\n",
              "    </tr>\n",
              "    <tr>\n",
              "      <th>6</th>\n",
              "      <td>14.0</td>\n",
              "      <td>651</td>\n",
              "    </tr>\n",
              "    <tr>\n",
              "      <th>7</th>\n",
              "      <td>13.0</td>\n",
              "      <td>522</td>\n",
              "    </tr>\n",
              "    <tr>\n",
              "      <th>8</th>\n",
              "      <td>12.0</td>\n",
              "      <td>459</td>\n",
              "    </tr>\n",
              "    <tr>\n",
              "      <th>9</th>\n",
              "      <td>11.0</td>\n",
              "      <td>329</td>\n",
              "    </tr>\n",
              "    <tr>\n",
              "      <th>10</th>\n",
              "      <td>10.0</td>\n",
              "      <td>283</td>\n",
              "    </tr>\n",
              "    <tr>\n",
              "      <th>11</th>\n",
              "      <td>9.0</td>\n",
              "      <td>230</td>\n",
              "    </tr>\n",
              "    <tr>\n",
              "      <th>12</th>\n",
              "      <td>8.0</td>\n",
              "      <td>194</td>\n",
              "    </tr>\n",
              "    <tr>\n",
              "      <th>13</th>\n",
              "      <td>7.0</td>\n",
              "      <td>151</td>\n",
              "    </tr>\n",
              "    <tr>\n",
              "      <th>14</th>\n",
              "      <td>6.0</td>\n",
              "      <td>76</td>\n",
              "    </tr>\n",
              "    <tr>\n",
              "      <th>15</th>\n",
              "      <td>5.0</td>\n",
              "      <td>39</td>\n",
              "    </tr>\n",
              "    <tr>\n",
              "      <th>16</th>\n",
              "      <td>4.0</td>\n",
              "      <td>36</td>\n",
              "    </tr>\n",
              "    <tr>\n",
              "      <th>17</th>\n",
              "      <td>3.0</td>\n",
              "      <td>16</td>\n",
              "    </tr>\n",
              "    <tr>\n",
              "      <th>18</th>\n",
              "      <td>0.0</td>\n",
              "      <td>15</td>\n",
              "    </tr>\n",
              "    <tr>\n",
              "      <th>19</th>\n",
              "      <td>1.0</td>\n",
              "      <td>3</td>\n",
              "    </tr>\n",
              "    <tr>\n",
              "      <th>20</th>\n",
              "      <td>2.0</td>\n",
              "      <td>3</td>\n",
              "    </tr>\n",
              "  </tbody>\n",
              "</table>\n",
              "</div>\n",
              "      <button class=\"colab-df-convert\" onclick=\"convertToInteractive('df-ff190324-dad3-4bf7-944b-ed486db957b9')\"\n",
              "              title=\"Convert this dataframe to an interactive table.\"\n",
              "              style=\"display:none;\">\n",
              "        \n",
              "  <svg xmlns=\"http://www.w3.org/2000/svg\" height=\"24px\"viewBox=\"0 0 24 24\"\n",
              "       width=\"24px\">\n",
              "    <path d=\"M0 0h24v24H0V0z\" fill=\"none\"/>\n",
              "    <path d=\"M18.56 5.44l.94 2.06.94-2.06 2.06-.94-2.06-.94-.94-2.06-.94 2.06-2.06.94zm-11 1L8.5 8.5l.94-2.06 2.06-.94-2.06-.94L8.5 2.5l-.94 2.06-2.06.94zm10 10l.94 2.06.94-2.06 2.06-.94-2.06-.94-.94-2.06-.94 2.06-2.06.94z\"/><path d=\"M17.41 7.96l-1.37-1.37c-.4-.4-.92-.59-1.43-.59-.52 0-1.04.2-1.43.59L10.3 9.45l-7.72 7.72c-.78.78-.78 2.05 0 2.83L4 21.41c.39.39.9.59 1.41.59.51 0 1.02-.2 1.41-.59l7.78-7.78 2.81-2.81c.8-.78.8-2.07 0-2.86zM5.41 20L4 18.59l7.72-7.72 1.47 1.35L5.41 20z\"/>\n",
              "  </svg>\n",
              "      </button>\n",
              "      \n",
              "  <style>\n",
              "    .colab-df-container {\n",
              "      display:flex;\n",
              "      flex-wrap:wrap;\n",
              "      gap: 12px;\n",
              "    }\n",
              "\n",
              "    .colab-df-convert {\n",
              "      background-color: #E8F0FE;\n",
              "      border: none;\n",
              "      border-radius: 50%;\n",
              "      cursor: pointer;\n",
              "      display: none;\n",
              "      fill: #1967D2;\n",
              "      height: 32px;\n",
              "      padding: 0 0 0 0;\n",
              "      width: 32px;\n",
              "    }\n",
              "\n",
              "    .colab-df-convert:hover {\n",
              "      background-color: #E2EBFA;\n",
              "      box-shadow: 0px 1px 2px rgba(60, 64, 67, 0.3), 0px 1px 3px 1px rgba(60, 64, 67, 0.15);\n",
              "      fill: #174EA6;\n",
              "    }\n",
              "\n",
              "    [theme=dark] .colab-df-convert {\n",
              "      background-color: #3B4455;\n",
              "      fill: #D2E3FC;\n",
              "    }\n",
              "\n",
              "    [theme=dark] .colab-df-convert:hover {\n",
              "      background-color: #434B5C;\n",
              "      box-shadow: 0px 1px 3px 1px rgba(0, 0, 0, 0.15);\n",
              "      filter: drop-shadow(0px 1px 2px rgba(0, 0, 0, 0.3));\n",
              "      fill: #FFFFFF;\n",
              "    }\n",
              "  </style>\n",
              "\n",
              "      <script>\n",
              "        const buttonEl =\n",
              "          document.querySelector('#df-ff190324-dad3-4bf7-944b-ed486db957b9 button.colab-df-convert');\n",
              "        buttonEl.style.display =\n",
              "          google.colab.kernel.accessAllowed ? 'block' : 'none';\n",
              "\n",
              "        async function convertToInteractive(key) {\n",
              "          const element = document.querySelector('#df-ff190324-dad3-4bf7-944b-ed486db957b9');\n",
              "          const dataTable =\n",
              "            await google.colab.kernel.invokeFunction('convertToInteractive',\n",
              "                                                     [key], {});\n",
              "          if (!dataTable) return;\n",
              "\n",
              "          const docLinkHtml = 'Like what you see? Visit the ' +\n",
              "            '<a target=\"_blank\" href=https://colab.research.google.com/notebooks/data_table.ipynb>data table notebook</a>'\n",
              "            + ' to learn more about interactive tables.';\n",
              "          element.innerHTML = '';\n",
              "          dataTable['output_type'] = 'display_data';\n",
              "          await google.colab.output.renderOutput(dataTable, element);\n",
              "          const docLink = document.createElement('div');\n",
              "          docLink.innerHTML = docLinkHtml;\n",
              "          element.appendChild(docLink);\n",
              "        }\n",
              "      </script>\n",
              "    </div>\n",
              "  </div>\n",
              "  "
            ],
            "text/plain": [
              "    Number of amenities  Total count\n",
              "0                  19.0         1634\n",
              "1                  18.0         1339\n",
              "2                  17.0         1085\n",
              "3                  20.0          929\n",
              "4                  16.0          845\n",
              "5                  15.0          743\n",
              "6                  14.0          651\n",
              "7                  13.0          522\n",
              "8                  12.0          459\n",
              "9                  11.0          329\n",
              "10                 10.0          283\n",
              "11                  9.0          230\n",
              "12                  8.0          194\n",
              "13                  7.0          151\n",
              "14                  6.0           76\n",
              "15                  5.0           39\n",
              "16                  4.0           36\n",
              "17                  3.0           16\n",
              "18                  0.0           15\n",
              "19                  1.0            3\n",
              "20                  2.0            3"
            ]
          },
          "execution_count": 118,
          "metadata": {},
          "output_type": "execute_result"
        }
      ],
      "source": [
        "amenities"
      ]
    },
    {
      "cell_type": "markdown",
      "metadata": {
        "id": "t5kGnyXrPyYL"
      },
      "source": [
        "***22. Total count for bathrooms.***"
      ]
    },
    {
      "cell_type": "code",
      "execution_count": null,
      "metadata": {
        "colab": {
          "base_uri": "https://localhost:8080/",
          "height": 357
        },
        "id": "TAlwmzscPq_A",
        "outputId": "bbbf5a98-9f36-4b63-d589-652620fe34ea"
      },
      "outputs": [
        {
          "data": {
            "image/png": "[encoded data removed]",
            "text/plain": [
              "<Figure size 792x432 with 1 Axes>"
            ]
          },
          "metadata": {},
          "output_type": "display_data"
        }
      ],
      "source": [
        "dfBathrooms = pd.read_csv(\"listings.csv\")\n",
        "dfBathrooms.bathrooms_text.replace({\n",
        "    '1 bath':'Private Bath',\n",
        "    '1.5 baths':'Private Bath',\n",
        "    '2 baths':'Private Bath',\n",
        "    '1 private bath':'Private Bath',\n",
        "    '1 shared bath':'Shared Bath',\n",
        "    '2.5 baths':'Private Bath',\n",
        "    '3 baths':'Private Bath',\n",
        "    '1.5 shared baths':'Shared Bath',\n",
        "    '2 shared baths':'Shared Bath',\n",
        "    '3.5 baths':'Private Bath',\n",
        "    '3 shared baths':'Shared Bath',\n",
        "    '4 baths':'Private Bath',\n",
        "    '4.5 baths':'Private Bath',\n",
        "    '5 baths':'Private Bath',\n",
        "    'Half-bath':'Private Bath',\n",
        "    '0 baths':'Private Bath',\n",
        "    '5 shared baths':'Shared Bath',\n",
        "    '3.5 shared baths':'Shared Bath',\n",
        "    '0 shared baths':'Shared Bath',\n",
        "    '7 baths':'Private Bath',\n",
        "    '2.5 shared baths':'Shared Bath',\n",
        "    '4 shared baths':'Shared Bath',\n",
        "    '5.5 baths':'Private Bath',\n",
        "    '6 baths':'Private Bath',\n",
        "    '6.5 baths':'Private Bath',\n",
        "    '9.5 baths':'Private Bath',\n",
        "    'Shared half-bath':'Shared Bath',\n",
        "    '12 baths':'Private Bath'\n",
        "    }, inplace=True)\n",
        "\n",
        "bathrooms_text = (dfBathrooms.bathrooms_text.value_counts()).to_frame()\n",
        "plot = bathrooms_text.plot.pie(subplots=True, figsize=(11, 6), autopct='%.0f%%', startangle = 50, colors = ['orange', 'green'])"
      ]
    },
    {
      "cell_type": "markdown",
      "metadata": {
        "id": "-DIcpGwy9h-5"
      },
      "source": [
        "***23. Mean price per neighbourhood (TOP-10).***"
      ]
    },
    {
      "cell_type": "code",
      "execution_count": null,
      "metadata": {
        "colab": {
          "base_uri": "https://localhost:8080/",
          "height": 281
        },
        "id": "RgBqNEnY8rRJ",
        "outputId": "96d4d7af-54ec-49c5-d5eb-186ed516d1f8"
      },
      "outputs": [
        {
          "data": {
            "image/png": "[encoded data removed]",
            "text/plain": [
              "<Figure size 432x288 with 1 Axes>"
            ]
          },
          "metadata": {
            "needs_background": "light"
          },
          "output_type": "display_data"
        }
      ],
      "source": [
        "avg_price = df.groupby('neighbourhood_cleansed')['price'].agg(np.mean)\n",
        "avg_price = avg_price.to_frame()\n",
        "avg_price.reset_index(inplace=True)\n",
        "avg_price.rename(columns = {'neighbourhood_cleansed':'Neighbourhood', 'price':'Mean Price'}, inplace = True)\n",
        "avg_price = avg_price.sort_values(by=['Mean Price'], ascending=False)\n",
        "avg_price.reset_index(inplace=True)\n",
        "avg_price = avg_price.iloc[0:9,]\n",
        "plt.barh(avg_price['Neighbourhood'], avg_price['Mean Price'], color='brown')\n",
        "plt.title(\"Mean price per neighbourhood\")\n",
        "plt.show()"
      ]
    },
    {
      "cell_type": "markdown",
      "metadata": {
        "id": "76k44iCIHtN2"
      },
      "source": [
        "***24. Line chart of mean price per number of rooms.***"
      ]
    },
    {
      "cell_type": "code",
      "execution_count": null,
      "metadata": {
        "colab": {
          "base_uri": "https://localhost:8080/",
          "height": 295
        },
        "id": "0G5QBNd8G3wp",
        "outputId": "db4288e1-5a5a-4728-b2ee-023a424636e5"
      },
      "outputs": [
        {
          "data": {
            "image/png": "[encoded data removed]",
            "text/plain": [
              "<Figure size 432x288 with 1 Axes>"
            ]
          },
          "metadata": {
            "needs_background": "light"
          },
          "output_type": "display_data"
        }
      ],
      "source": [
        "rooms = df.groupby('rooms')['price'].agg(np.mean)\n",
        "rooms = rooms.to_frame()\n",
        "rooms.reset_index(inplace=True)\n",
        "axisX = rooms['rooms']\n",
        "axisY = rooms['price']\n",
        "plt.plot(axisX, axisY, color='brown')\n",
        "plt.title('Mean price per number of rooms')\n",
        "plt.xlabel('Total number of rooms')\n",
        "plt.ylabel('Mean Price')\n",
        "plt.show()"
      ]
    }
  ],
  "metadata": {
    "colab": {
      "collapsed_sections": [],
      "provenance": []
    },
    "kernelspec": {
      "display_name": "Python 3.9.9 64-bit",
      "language": "python",
      "name": "python3"
    },
    "language_info": {
      "codemirror_mode": {
        "name": "ipython",
        "version": 3
      },
      "file_extension": ".py",
      "mimetype": "text/x-python",
      "name": "python",
      "nbconvert_exporter": "python",
      "pygments_lexer": "ipython3",
      "version": "3.9.9"
    },
    "orig_nbformat": 4,
    "vscode": {
      "interpreter": {
        "hash": "3f28a355f7da962bce0e51ab4801b31e65054417fc84fea33325270959364ce2"
      }
    }
  },
  "nbformat": 4,
  "nbformat_minor": 0
}
